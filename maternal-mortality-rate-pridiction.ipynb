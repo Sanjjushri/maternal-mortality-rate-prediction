{
 "cells": [
  {
   "cell_type": "code",
   "execution_count": 184,
   "id": "1753846a-50f9-46bc-b040-09a049df2875",
   "metadata": {},
   "outputs": [],
   "source": [
    "import pandas as pd\n",
    "import seaborn as sns\n",
    "import matplotlib.pyplot as plt\n",
    "import numpy as np\n",
    "from sklearn.model_selection import train_test_split"
   ]
  },
  {
   "cell_type": "code",
   "execution_count": 214,
   "id": "752da32c-bc5d-426d-b63e-823507e05795",
   "metadata": {},
   "outputs": [],
   "source": [
    "FILEPATH = \"datasets/ind-maternal-mortality-rate-data.csv\""
   ]
  },
  {
   "cell_type": "code",
   "execution_count": 215,
   "id": "b3dc9333-7ea6-44ed-bcf8-80300e667b45",
   "metadata": {},
   "outputs": [],
   "source": [
    "data = pd.read_csv(FILEPATH)"
   ]
  },
  {
   "cell_type": "code",
   "execution_count": 216,
   "id": "261c612a-1dd7-4cb0-84c6-1d632256ce2c",
   "metadata": {},
   "outputs": [
    {
     "data": {
      "text/html": [
       "<div>\n",
       "<style scoped>\n",
       "    .dataframe tbody tr th:only-of-type {\n",
       "        vertical-align: middle;\n",
       "    }\n",
       "\n",
       "    .dataframe tbody tr th {\n",
       "        vertical-align: top;\n",
       "    }\n",
       "\n",
       "    .dataframe thead th {\n",
       "        text-align: right;\n",
       "    }\n",
       "</style>\n",
       "<table border=\"1\" class=\"dataframe\">\n",
       "  <thead>\n",
       "    <tr style=\"text-align: right;\">\n",
       "      <th></th>\n",
       "      <th>year</th>\n",
       "      <th>death_rate</th>\n",
       "    </tr>\n",
       "  </thead>\n",
       "  <tbody>\n",
       "    <tr>\n",
       "      <th>0</th>\n",
       "      <td>1990</td>\n",
       "      <td>556</td>\n",
       "    </tr>\n",
       "    <tr>\n",
       "      <th>1</th>\n",
       "      <td>1991</td>\n",
       "      <td>538</td>\n",
       "    </tr>\n",
       "    <tr>\n",
       "      <th>2</th>\n",
       "      <td>1992</td>\n",
       "      <td>521</td>\n",
       "    </tr>\n",
       "    <tr>\n",
       "      <th>3</th>\n",
       "      <td>1993</td>\n",
       "      <td>504</td>\n",
       "    </tr>\n",
       "    <tr>\n",
       "      <th>4</th>\n",
       "      <td>1994</td>\n",
       "      <td>488</td>\n",
       "    </tr>\n",
       "  </tbody>\n",
       "</table>\n",
       "</div>"
      ],
      "text/plain": [
       "   year  death_rate\n",
       "0  1990         556\n",
       "1  1991         538\n",
       "2  1992         521\n",
       "3  1993         504\n",
       "4  1994         488"
      ]
     },
     "execution_count": 216,
     "metadata": {},
     "output_type": "execute_result"
    }
   ],
   "source": [
    "data.head()"
   ]
  },
  {
   "cell_type": "code",
   "execution_count": 188,
   "id": "4bf9bc62-73d2-4410-ab70-5ba91651e811",
   "metadata": {},
   "outputs": [
    {
     "data": {
      "text/plain": [
       "Index(['year', 'death_rate'], dtype='object')"
      ]
     },
     "execution_count": 188,
     "metadata": {},
     "output_type": "execute_result"
    }
   ],
   "source": [
    "data.columns"
   ]
  },
  {
   "cell_type": "code",
   "execution_count": 189,
   "id": "0438654c-fdb8-44cc-8c60-8da18df98646",
   "metadata": {},
   "outputs": [
    {
     "data": {
      "text/plain": [
       "0"
      ]
     },
     "execution_count": 189,
     "metadata": {},
     "output_type": "execute_result"
    }
   ],
   "source": [
    "data.isnull().sum().sum()"
   ]
  },
  {
   "cell_type": "code",
   "execution_count": 190,
   "id": "0520774f-32c9-4214-8742-d958cb72d884",
   "metadata": {},
   "outputs": [],
   "source": [
    "data_set = data.set_index(\"year\")"
   ]
  },
  {
   "cell_type": "code",
   "execution_count": 213,
   "id": "1b1fef17-4d10-4fb9-89df-18cd15916544",
   "metadata": {},
   "outputs": [
    {
     "data": {
      "text/html": [
       "<div>\n",
       "<style scoped>\n",
       "    .dataframe tbody tr th:only-of-type {\n",
       "        vertical-align: middle;\n",
       "    }\n",
       "\n",
       "    .dataframe tbody tr th {\n",
       "        vertical-align: top;\n",
       "    }\n",
       "\n",
       "    .dataframe thead th {\n",
       "        text-align: right;\n",
       "    }\n",
       "</style>\n",
       "<table border=\"1\" class=\"dataframe\">\n",
       "  <thead>\n",
       "    <tr style=\"text-align: right;\">\n",
       "      <th></th>\n",
       "      <th>year</th>\n",
       "      <th>death_rate</th>\n",
       "    </tr>\n",
       "  </thead>\n",
       "  <tbody>\n",
       "    <tr>\n",
       "      <th>0</th>\n",
       "      <td>1990</td>\n",
       "      <td>556</td>\n",
       "    </tr>\n",
       "    <tr>\n",
       "      <th>1</th>\n",
       "      <td>1991</td>\n",
       "      <td>538</td>\n",
       "    </tr>\n",
       "    <tr>\n",
       "      <th>2</th>\n",
       "      <td>1992</td>\n",
       "      <td>521</td>\n",
       "    </tr>\n",
       "    <tr>\n",
       "      <th>3</th>\n",
       "      <td>1993</td>\n",
       "      <td>504</td>\n",
       "    </tr>\n",
       "    <tr>\n",
       "      <th>4</th>\n",
       "      <td>1994</td>\n",
       "      <td>488</td>\n",
       "    </tr>\n",
       "  </tbody>\n",
       "</table>\n",
       "</div>"
      ],
      "text/plain": [
       "   year  death_rate\n",
       "0  1990         556\n",
       "1  1991         538\n",
       "2  1992         521\n",
       "3  1993         504\n",
       "4  1994         488"
      ]
     },
     "execution_count": 213,
     "metadata": {},
     "output_type": "execute_result"
    }
   ],
   "source": [
    "data.head()"
   ]
  },
  {
   "cell_type": "code",
   "execution_count": 194,
   "id": "aa64a1b7-c526-42e1-8fb3-518df870a7de",
   "metadata": {},
   "outputs": [
    {
     "data": {
      "text/plain": [
       "(26, 2)"
      ]
     },
     "execution_count": 194,
     "metadata": {},
     "output_type": "execute_result"
    }
   ],
   "source": [
    "data.shape"
   ]
  },
  {
   "cell_type": "code",
   "execution_count": 212,
   "id": "867ce6e4-b7e5-49ae-a0a5-f4e72f2fa780",
   "metadata": {},
   "outputs": [
    {
     "data": {
      "application/vnd.plotly.v1+json": {
       "config": {
        "plotlyServerURL": "https://plot.ly"
       },
       "data": [
        {
         "hovertemplate": "variable=death_rate<br>year=%{x}<br>value=%{y}<extra></extra>",
         "legendgroup": "death_rate",
         "line": {
          "color": "#636efa",
          "dash": "solid"
         },
         "marker": {
          "symbol": "circle"
         },
         "mode": "lines",
         "name": "death_rate",
         "orientation": "v",
         "showlegend": true,
         "type": "scatter",
         "x": [
          1990,
          1991,
          1992,
          1993,
          1994,
          1995,
          1996,
          1997,
          1998,
          1999,
          2000,
          2001,
          2002,
          2003,
          2004,
          2005,
          2006,
          2007,
          2008,
          2009,
          2010,
          2011,
          2012,
          2013,
          2014,
          2015
         ],
         "xaxis": "x",
         "y": [
          556,
          538,
          521,
          504,
          488,
          471,
          453,
          434,
          414,
          395,
          374,
          354,
          335,
          316,
          298,
          280,
          265,
          250,
          237,
          225,
          215,
          206,
          197,
          189,
          181,
          174
         ],
         "yaxis": "y"
        }
       ],
       "layout": {
        "autosize": true,
        "legend": {
         "title": {
          "text": "variable"
         },
         "tracegroupgap": 0
        },
        "template": {
         "data": {
          "bar": [
           {
            "error_x": {
             "color": "#f2f5fa"
            },
            "error_y": {
             "color": "#f2f5fa"
            },
            "marker": {
             "line": {
              "color": "rgb(17,17,17)",
              "width": 0.5
             },
             "pattern": {
              "fillmode": "overlay",
              "size": 10,
              "solidity": 0.2
             }
            },
            "type": "bar"
           }
          ],
          "barpolar": [
           {
            "marker": {
             "line": {
              "color": "rgb(17,17,17)",
              "width": 0.5
             },
             "pattern": {
              "fillmode": "overlay",
              "size": 10,
              "solidity": 0.2
             }
            },
            "type": "barpolar"
           }
          ],
          "carpet": [
           {
            "aaxis": {
             "endlinecolor": "#A2B1C6",
             "gridcolor": "#506784",
             "linecolor": "#506784",
             "minorgridcolor": "#506784",
             "startlinecolor": "#A2B1C6"
            },
            "baxis": {
             "endlinecolor": "#A2B1C6",
             "gridcolor": "#506784",
             "linecolor": "#506784",
             "minorgridcolor": "#506784",
             "startlinecolor": "#A2B1C6"
            },
            "type": "carpet"
           }
          ],
          "choropleth": [
           {
            "colorbar": {
             "outlinewidth": 0,
             "ticks": ""
            },
            "type": "choropleth"
           }
          ],
          "contour": [
           {
            "colorbar": {
             "outlinewidth": 0,
             "ticks": ""
            },
            "colorscale": [
             [
              0,
              "#0d0887"
             ],
             [
              0.1111111111111111,
              "#46039f"
             ],
             [
              0.2222222222222222,
              "#7201a8"
             ],
             [
              0.3333333333333333,
              "#9c179e"
             ],
             [
              0.4444444444444444,
              "#bd3786"
             ],
             [
              0.5555555555555556,
              "#d8576b"
             ],
             [
              0.6666666666666666,
              "#ed7953"
             ],
             [
              0.7777777777777778,
              "#fb9f3a"
             ],
             [
              0.8888888888888888,
              "#fdca26"
             ],
             [
              1,
              "#f0f921"
             ]
            ],
            "type": "contour"
           }
          ],
          "contourcarpet": [
           {
            "colorbar": {
             "outlinewidth": 0,
             "ticks": ""
            },
            "type": "contourcarpet"
           }
          ],
          "heatmap": [
           {
            "colorbar": {
             "outlinewidth": 0,
             "ticks": ""
            },
            "colorscale": [
             [
              0,
              "#0d0887"
             ],
             [
              0.1111111111111111,
              "#46039f"
             ],
             [
              0.2222222222222222,
              "#7201a8"
             ],
             [
              0.3333333333333333,
              "#9c179e"
             ],
             [
              0.4444444444444444,
              "#bd3786"
             ],
             [
              0.5555555555555556,
              "#d8576b"
             ],
             [
              0.6666666666666666,
              "#ed7953"
             ],
             [
              0.7777777777777778,
              "#fb9f3a"
             ],
             [
              0.8888888888888888,
              "#fdca26"
             ],
             [
              1,
              "#f0f921"
             ]
            ],
            "type": "heatmap"
           }
          ],
          "heatmapgl": [
           {
            "colorbar": {
             "outlinewidth": 0,
             "ticks": ""
            },
            "colorscale": [
             [
              0,
              "#0d0887"
             ],
             [
              0.1111111111111111,
              "#46039f"
             ],
             [
              0.2222222222222222,
              "#7201a8"
             ],
             [
              0.3333333333333333,
              "#9c179e"
             ],
             [
              0.4444444444444444,
              "#bd3786"
             ],
             [
              0.5555555555555556,
              "#d8576b"
             ],
             [
              0.6666666666666666,
              "#ed7953"
             ],
             [
              0.7777777777777778,
              "#fb9f3a"
             ],
             [
              0.8888888888888888,
              "#fdca26"
             ],
             [
              1,
              "#f0f921"
             ]
            ],
            "type": "heatmapgl"
           }
          ],
          "histogram": [
           {
            "marker": {
             "pattern": {
              "fillmode": "overlay",
              "size": 10,
              "solidity": 0.2
             }
            },
            "type": "histogram"
           }
          ],
          "histogram2d": [
           {
            "colorbar": {
             "outlinewidth": 0,
             "ticks": ""
            },
            "colorscale": [
             [
              0,
              "#0d0887"
             ],
             [
              0.1111111111111111,
              "#46039f"
             ],
             [
              0.2222222222222222,
              "#7201a8"
             ],
             [
              0.3333333333333333,
              "#9c179e"
             ],
             [
              0.4444444444444444,
              "#bd3786"
             ],
             [
              0.5555555555555556,
              "#d8576b"
             ],
             [
              0.6666666666666666,
              "#ed7953"
             ],
             [
              0.7777777777777778,
              "#fb9f3a"
             ],
             [
              0.8888888888888888,
              "#fdca26"
             ],
             [
              1,
              "#f0f921"
             ]
            ],
            "type": "histogram2d"
           }
          ],
          "histogram2dcontour": [
           {
            "colorbar": {
             "outlinewidth": 0,
             "ticks": ""
            },
            "colorscale": [
             [
              0,
              "#0d0887"
             ],
             [
              0.1111111111111111,
              "#46039f"
             ],
             [
              0.2222222222222222,
              "#7201a8"
             ],
             [
              0.3333333333333333,
              "#9c179e"
             ],
             [
              0.4444444444444444,
              "#bd3786"
             ],
             [
              0.5555555555555556,
              "#d8576b"
             ],
             [
              0.6666666666666666,
              "#ed7953"
             ],
             [
              0.7777777777777778,
              "#fb9f3a"
             ],
             [
              0.8888888888888888,
              "#fdca26"
             ],
             [
              1,
              "#f0f921"
             ]
            ],
            "type": "histogram2dcontour"
           }
          ],
          "mesh3d": [
           {
            "colorbar": {
             "outlinewidth": 0,
             "ticks": ""
            },
            "type": "mesh3d"
           }
          ],
          "parcoords": [
           {
            "line": {
             "colorbar": {
              "outlinewidth": 0,
              "ticks": ""
             }
            },
            "type": "parcoords"
           }
          ],
          "pie": [
           {
            "automargin": true,
            "type": "pie"
           }
          ],
          "scatter": [
           {
            "marker": {
             "line": {
              "color": "#283442"
             }
            },
            "type": "scatter"
           }
          ],
          "scatter3d": [
           {
            "line": {
             "colorbar": {
              "outlinewidth": 0,
              "ticks": ""
             }
            },
            "marker": {
             "colorbar": {
              "outlinewidth": 0,
              "ticks": ""
             }
            },
            "type": "scatter3d"
           }
          ],
          "scattercarpet": [
           {
            "marker": {
             "colorbar": {
              "outlinewidth": 0,
              "ticks": ""
             }
            },
            "type": "scattercarpet"
           }
          ],
          "scattergeo": [
           {
            "marker": {
             "colorbar": {
              "outlinewidth": 0,
              "ticks": ""
             }
            },
            "type": "scattergeo"
           }
          ],
          "scattergl": [
           {
            "marker": {
             "line": {
              "color": "#283442"
             }
            },
            "type": "scattergl"
           }
          ],
          "scattermapbox": [
           {
            "marker": {
             "colorbar": {
              "outlinewidth": 0,
              "ticks": ""
             }
            },
            "type": "scattermapbox"
           }
          ],
          "scatterpolar": [
           {
            "marker": {
             "colorbar": {
              "outlinewidth": 0,
              "ticks": ""
             }
            },
            "type": "scatterpolar"
           }
          ],
          "scatterpolargl": [
           {
            "marker": {
             "colorbar": {
              "outlinewidth": 0,
              "ticks": ""
             }
            },
            "type": "scatterpolargl"
           }
          ],
          "scatterternary": [
           {
            "marker": {
             "colorbar": {
              "outlinewidth": 0,
              "ticks": ""
             }
            },
            "type": "scatterternary"
           }
          ],
          "surface": [
           {
            "colorbar": {
             "outlinewidth": 0,
             "ticks": ""
            },
            "colorscale": [
             [
              0,
              "#0d0887"
             ],
             [
              0.1111111111111111,
              "#46039f"
             ],
             [
              0.2222222222222222,
              "#7201a8"
             ],
             [
              0.3333333333333333,
              "#9c179e"
             ],
             [
              0.4444444444444444,
              "#bd3786"
             ],
             [
              0.5555555555555556,
              "#d8576b"
             ],
             [
              0.6666666666666666,
              "#ed7953"
             ],
             [
              0.7777777777777778,
              "#fb9f3a"
             ],
             [
              0.8888888888888888,
              "#fdca26"
             ],
             [
              1,
              "#f0f921"
             ]
            ],
            "type": "surface"
           }
          ],
          "table": [
           {
            "cells": {
             "fill": {
              "color": "#506784"
             },
             "line": {
              "color": "rgb(17,17,17)"
             }
            },
            "header": {
             "fill": {
              "color": "#2a3f5f"
             },
             "line": {
              "color": "rgb(17,17,17)"
             }
            },
            "type": "table"
           }
          ]
         },
         "layout": {
          "annotationdefaults": {
           "arrowcolor": "#f2f5fa",
           "arrowhead": 0,
           "arrowwidth": 1
          },
          "autotypenumbers": "strict",
          "coloraxis": {
           "colorbar": {
            "outlinewidth": 0,
            "ticks": ""
           }
          },
          "colorscale": {
           "diverging": [
            [
             0,
             "#8e0152"
            ],
            [
             0.1,
             "#c51b7d"
            ],
            [
             0.2,
             "#de77ae"
            ],
            [
             0.3,
             "#f1b6da"
            ],
            [
             0.4,
             "#fde0ef"
            ],
            [
             0.5,
             "#f7f7f7"
            ],
            [
             0.6,
             "#e6f5d0"
            ],
            [
             0.7,
             "#b8e186"
            ],
            [
             0.8,
             "#7fbc41"
            ],
            [
             0.9,
             "#4d9221"
            ],
            [
             1,
             "#276419"
            ]
           ],
           "sequential": [
            [
             0,
             "#0d0887"
            ],
            [
             0.1111111111111111,
             "#46039f"
            ],
            [
             0.2222222222222222,
             "#7201a8"
            ],
            [
             0.3333333333333333,
             "#9c179e"
            ],
            [
             0.4444444444444444,
             "#bd3786"
            ],
            [
             0.5555555555555556,
             "#d8576b"
            ],
            [
             0.6666666666666666,
             "#ed7953"
            ],
            [
             0.7777777777777778,
             "#fb9f3a"
            ],
            [
             0.8888888888888888,
             "#fdca26"
            ],
            [
             1,
             "#f0f921"
            ]
           ],
           "sequentialminus": [
            [
             0,
             "#0d0887"
            ],
            [
             0.1111111111111111,
             "#46039f"
            ],
            [
             0.2222222222222222,
             "#7201a8"
            ],
            [
             0.3333333333333333,
             "#9c179e"
            ],
            [
             0.4444444444444444,
             "#bd3786"
            ],
            [
             0.5555555555555556,
             "#d8576b"
            ],
            [
             0.6666666666666666,
             "#ed7953"
            ],
            [
             0.7777777777777778,
             "#fb9f3a"
            ],
            [
             0.8888888888888888,
             "#fdca26"
            ],
            [
             1,
             "#f0f921"
            ]
           ]
          },
          "colorway": [
           "#636efa",
           "#EF553B",
           "#00cc96",
           "#ab63fa",
           "#FFA15A",
           "#19d3f3",
           "#FF6692",
           "#B6E880",
           "#FF97FF",
           "#FECB52"
          ],
          "font": {
           "color": "#f2f5fa"
          },
          "geo": {
           "bgcolor": "rgb(17,17,17)",
           "lakecolor": "rgb(17,17,17)",
           "landcolor": "rgb(17,17,17)",
           "showlakes": true,
           "showland": true,
           "subunitcolor": "#506784"
          },
          "hoverlabel": {
           "align": "left"
          },
          "hovermode": "closest",
          "mapbox": {
           "style": "dark"
          },
          "paper_bgcolor": "rgb(17,17,17)",
          "plot_bgcolor": "rgb(17,17,17)",
          "polar": {
           "angularaxis": {
            "gridcolor": "#506784",
            "linecolor": "#506784",
            "ticks": ""
           },
           "bgcolor": "rgb(17,17,17)",
           "radialaxis": {
            "gridcolor": "#506784",
            "linecolor": "#506784",
            "ticks": ""
           }
          },
          "scene": {
           "xaxis": {
            "backgroundcolor": "rgb(17,17,17)",
            "gridcolor": "#506784",
            "gridwidth": 2,
            "linecolor": "#506784",
            "showbackground": true,
            "ticks": "",
            "zerolinecolor": "#C8D4E3"
           },
           "yaxis": {
            "backgroundcolor": "rgb(17,17,17)",
            "gridcolor": "#506784",
            "gridwidth": 2,
            "linecolor": "#506784",
            "showbackground": true,
            "ticks": "",
            "zerolinecolor": "#C8D4E3"
           },
           "zaxis": {
            "backgroundcolor": "rgb(17,17,17)",
            "gridcolor": "#506784",
            "gridwidth": 2,
            "linecolor": "#506784",
            "showbackground": true,
            "ticks": "",
            "zerolinecolor": "#C8D4E3"
           }
          },
          "shapedefaults": {
           "line": {
            "color": "#f2f5fa"
           }
          },
          "sliderdefaults": {
           "bgcolor": "#C8D4E3",
           "bordercolor": "rgb(17,17,17)",
           "borderwidth": 1,
           "tickwidth": 0
          },
          "ternary": {
           "aaxis": {
            "gridcolor": "#506784",
            "linecolor": "#506784",
            "ticks": ""
           },
           "baxis": {
            "gridcolor": "#506784",
            "linecolor": "#506784",
            "ticks": ""
           },
           "bgcolor": "rgb(17,17,17)",
           "caxis": {
            "gridcolor": "#506784",
            "linecolor": "#506784",
            "ticks": ""
           }
          },
          "title": {
           "x": 0.05
          },
          "updatemenudefaults": {
           "bgcolor": "#506784",
           "borderwidth": 0
          },
          "xaxis": {
           "automargin": true,
           "gridcolor": "#283442",
           "linecolor": "#506784",
           "ticks": "",
           "title": {
            "standoff": 15
           },
           "zerolinecolor": "#283442",
           "zerolinewidth": 2
          },
          "yaxis": {
           "automargin": true,
           "gridcolor": "#283442",
           "linecolor": "#506784",
           "ticks": "",
           "title": {
            "standoff": 15
           },
           "zerolinecolor": "#283442",
           "zerolinewidth": 2
          }
         }
        },
        "title": {
         "text": " Maternal Mortality Rate in INDIA from 1990 to 2015."
        },
        "xaxis": {
         "anchor": "y",
         "autorange": true,
         "domain": [
          0,
          1
         ],
         "range": [
          1990,
          2015
         ],
         "title": {
          "text": "year"
         },
         "type": "linear"
        },
        "yaxis": {
         "anchor": "x",
         "autorange": true,
         "domain": [
          0,
          1
         ],
         "range": [
          152.77777777777777,
          577.2222222222222
         ],
         "title": {
          "text": "value"
         },
         "type": "linear"
        }
       }
      },
      "image/png": "[encoded data removed]",
      "text/html": [
       "<div>                            <div id=\"151ac884-32cd-415c-8f62-5850d2f7a9a4\" class=\"plotly-graph-div\" style=\"height:525px; width:100%;\"></div>            <script type=\"text/javascript\">                require([\"plotly\"], function(Plotly) {                    window.PLOTLYENV=window.PLOTLYENV || {};                                    if (document.getElementById(\"151ac884-32cd-415c-8f62-5850d2f7a9a4\")) {                    Plotly.newPlot(                        \"151ac884-32cd-415c-8f62-5850d2f7a9a4\",                        [{\"hovertemplate\":\"variable=death_rate<br>year=%{x}<br>value=%{y}<extra></extra>\",\"legendgroup\":\"death_rate\",\"line\":{\"color\":\"#636efa\",\"dash\":\"solid\"},\"marker\":{\"symbol\":\"circle\"},\"mode\":\"lines\",\"name\":\"death_rate\",\"orientation\":\"v\",\"showlegend\":true,\"x\":[1990,1991,1992,1993,1994,1995,1996,1997,1998,1999,2000,2001,2002,2003,2004,2005,2006,2007,2008,2009,2010,2011,2012,2013,2014,2015],\"xaxis\":\"x\",\"y\":[556,538,521,504,488,471,453,434,414,395,374,354,335,316,298,280,265,250,237,225,215,206,197,189,181,174],\"yaxis\":\"y\",\"type\":\"scatter\"}],                        {\"template\":{\"data\":{\"barpolar\":[{\"marker\":{\"line\":{\"color\":\"rgb(17,17,17)\",\"width\":0.5},\"pattern\":{\"fillmode\":\"overlay\",\"size\":10,\"solidity\":0.2}},\"type\":\"barpolar\"}],\"bar\":[{\"error_x\":{\"color\":\"#f2f5fa\"},\"error_y\":{\"color\":\"#f2f5fa\"},\"marker\":{\"line\":{\"color\":\"rgb(17,17,17)\",\"width\":0.5},\"pattern\":{\"fillmode\":\"overlay\",\"size\":10,\"solidity\":0.2}},\"type\":\"bar\"}],\"carpet\":[{\"aaxis\":{\"endlinecolor\":\"#A2B1C6\",\"gridcolor\":\"#506784\",\"linecolor\":\"#506784\",\"minorgridcolor\":\"#506784\",\"startlinecolor\":\"#A2B1C6\"},\"baxis\":{\"endlinecolor\":\"#A2B1C6\",\"gridcolor\":\"#506784\",\"linecolor\":\"#506784\",\"minorgridcolor\":\"#506784\",\"startlinecolor\":\"#A2B1C6\"},\"type\":\"carpet\"}],\"choropleth\":[{\"colorbar\":{\"outlinewidth\":0,\"ticks\":\"\"},\"type\":\"choropleth\"}],\"contourcarpet\":[{\"colorbar\":{\"outlinewidth\":0,\"ticks\":\"\"},\"type\":\"contourcarpet\"}],\"contour\":[{\"colorbar\":{\"outlinewidth\":0,\"ticks\":\"\"},\"colorscale\":[[0.0,\"#0d0887\"],[0.1111111111111111,\"#46039f\"],[0.2222222222222222,\"#7201a8\"],[0.3333333333333333,\"#9c179e\"],[0.4444444444444444,\"#bd3786\"],[0.5555555555555556,\"#d8576b\"],[0.6666666666666666,\"#ed7953\"],[0.7777777777777778,\"#fb9f3a\"],[0.8888888888888888,\"#fdca26\"],[1.0,\"#f0f921\"]],\"type\":\"contour\"}],\"heatmapgl\":[{\"colorbar\":{\"outlinewidth\":0,\"ticks\":\"\"},\"colorscale\":[[0.0,\"#0d0887\"],[0.1111111111111111,\"#46039f\"],[0.2222222222222222,\"#7201a8\"],[0.3333333333333333,\"#9c179e\"],[0.4444444444444444,\"#bd3786\"],[0.5555555555555556,\"#d8576b\"],[0.6666666666666666,\"#ed7953\"],[0.7777777777777778,\"#fb9f3a\"],[0.8888888888888888,\"#fdca26\"],[1.0,\"#f0f921\"]],\"type\":\"heatmapgl\"}],\"heatmap\":[{\"colorbar\":{\"outlinewidth\":0,\"ticks\":\"\"},\"colorscale\":[[0.0,\"#0d0887\"],[0.1111111111111111,\"#46039f\"],[0.2222222222222222,\"#7201a8\"],[0.3333333333333333,\"#9c179e\"],[0.4444444444444444,\"#bd3786\"],[0.5555555555555556,\"#d8576b\"],[0.6666666666666666,\"#ed7953\"],[0.7777777777777778,\"#fb9f3a\"],[0.8888888888888888,\"#fdca26\"],[1.0,\"#f0f921\"]],\"type\":\"heatmap\"}],\"histogram2dcontour\":[{\"colorbar\":{\"outlinewidth\":0,\"ticks\":\"\"},\"colorscale\":[[0.0,\"#0d0887\"],[0.1111111111111111,\"#46039f\"],[0.2222222222222222,\"#7201a8\"],[0.3333333333333333,\"#9c179e\"],[0.4444444444444444,\"#bd3786\"],[0.5555555555555556,\"#d8576b\"],[0.6666666666666666,\"#ed7953\"],[0.7777777777777778,\"#fb9f3a\"],[0.8888888888888888,\"#fdca26\"],[1.0,\"#f0f921\"]],\"type\":\"histogram2dcontour\"}],\"histogram2d\":[{\"colorbar\":{\"outlinewidth\":0,\"ticks\":\"\"},\"colorscale\":[[0.0,\"#0d0887\"],[0.1111111111111111,\"#46039f\"],[0.2222222222222222,\"#7201a8\"],[0.3333333333333333,\"#9c179e\"],[0.4444444444444444,\"#bd3786\"],[0.5555555555555556,\"#d8576b\"],[0.6666666666666666,\"#ed7953\"],[0.7777777777777778,\"#fb9f3a\"],[0.8888888888888888,\"#fdca26\"],[1.0,\"#f0f921\"]],\"type\":\"histogram2d\"}],\"histogram\":[{\"marker\":{\"pattern\":{\"fillmode\":\"overlay\",\"size\":10,\"solidity\":0.2}},\"type\":\"histogram\"}],\"mesh3d\":[{\"colorbar\":{\"outlinewidth\":0,\"ticks\":\"\"},\"type\":\"mesh3d\"}],\"parcoords\":[{\"line\":{\"colorbar\":{\"outlinewidth\":0,\"ticks\":\"\"}},\"type\":\"parcoords\"}],\"pie\":[{\"automargin\":true,\"type\":\"pie\"}],\"scatter3d\":[{\"line\":{\"colorbar\":{\"outlinewidth\":0,\"ticks\":\"\"}},\"marker\":{\"colorbar\":{\"outlinewidth\":0,\"ticks\":\"\"}},\"type\":\"scatter3d\"}],\"scattercarpet\":[{\"marker\":{\"colorbar\":{\"outlinewidth\":0,\"ticks\":\"\"}},\"type\":\"scattercarpet\"}],\"scattergeo\":[{\"marker\":{\"colorbar\":{\"outlinewidth\":0,\"ticks\":\"\"}},\"type\":\"scattergeo\"}],\"scattergl\":[{\"marker\":{\"line\":{\"color\":\"#283442\"}},\"type\":\"scattergl\"}],\"scattermapbox\":[{\"marker\":{\"colorbar\":{\"outlinewidth\":0,\"ticks\":\"\"}},\"type\":\"scattermapbox\"}],\"scatterpolargl\":[{\"marker\":{\"colorbar\":{\"outlinewidth\":0,\"ticks\":\"\"}},\"type\":\"scatterpolargl\"}],\"scatterpolar\":[{\"marker\":{\"colorbar\":{\"outlinewidth\":0,\"ticks\":\"\"}},\"type\":\"scatterpolar\"}],\"scatter\":[{\"marker\":{\"line\":{\"color\":\"#283442\"}},\"type\":\"scatter\"}],\"scatterternary\":[{\"marker\":{\"colorbar\":{\"outlinewidth\":0,\"ticks\":\"\"}},\"type\":\"scatterternary\"}],\"surface\":[{\"colorbar\":{\"outlinewidth\":0,\"ticks\":\"\"},\"colorscale\":[[0.0,\"#0d0887\"],[0.1111111111111111,\"#46039f\"],[0.2222222222222222,\"#7201a8\"],[0.3333333333333333,\"#9c179e\"],[0.4444444444444444,\"#bd3786\"],[0.5555555555555556,\"#d8576b\"],[0.6666666666666666,\"#ed7953\"],[0.7777777777777778,\"#fb9f3a\"],[0.8888888888888888,\"#fdca26\"],[1.0,\"#f0f921\"]],\"type\":\"surface\"}],\"table\":[{\"cells\":{\"fill\":{\"color\":\"#506784\"},\"line\":{\"color\":\"rgb(17,17,17)\"}},\"header\":{\"fill\":{\"color\":\"#2a3f5f\"},\"line\":{\"color\":\"rgb(17,17,17)\"}},\"type\":\"table\"}]},\"layout\":{\"annotationdefaults\":{\"arrowcolor\":\"#f2f5fa\",\"arrowhead\":0,\"arrowwidth\":1},\"autotypenumbers\":\"strict\",\"coloraxis\":{\"colorbar\":{\"outlinewidth\":0,\"ticks\":\"\"}},\"colorscale\":{\"diverging\":[[0,\"#8e0152\"],[0.1,\"#c51b7d\"],[0.2,\"#de77ae\"],[0.3,\"#f1b6da\"],[0.4,\"#fde0ef\"],[0.5,\"#f7f7f7\"],[0.6,\"#e6f5d0\"],[0.7,\"#b8e186\"],[0.8,\"#7fbc41\"],[0.9,\"#4d9221\"],[1,\"#276419\"]],\"sequential\":[[0.0,\"#0d0887\"],[0.1111111111111111,\"#46039f\"],[0.2222222222222222,\"#7201a8\"],[0.3333333333333333,\"#9c179e\"],[0.4444444444444444,\"#bd3786\"],[0.5555555555555556,\"#d8576b\"],[0.6666666666666666,\"#ed7953\"],[0.7777777777777778,\"#fb9f3a\"],[0.8888888888888888,\"#fdca26\"],[1.0,\"#f0f921\"]],\"sequentialminus\":[[0.0,\"#0d0887\"],[0.1111111111111111,\"#46039f\"],[0.2222222222222222,\"#7201a8\"],[0.3333333333333333,\"#9c179e\"],[0.4444444444444444,\"#bd3786\"],[0.5555555555555556,\"#d8576b\"],[0.6666666666666666,\"#ed7953\"],[0.7777777777777778,\"#fb9f3a\"],[0.8888888888888888,\"#fdca26\"],[1.0,\"#f0f921\"]]},\"colorway\":[\"#636efa\",\"#EF553B\",\"#00cc96\",\"#ab63fa\",\"#FFA15A\",\"#19d3f3\",\"#FF6692\",\"#B6E880\",\"#FF97FF\",\"#FECB52\"],\"font\":{\"color\":\"#f2f5fa\"},\"geo\":{\"bgcolor\":\"rgb(17,17,17)\",\"lakecolor\":\"rgb(17,17,17)\",\"landcolor\":\"rgb(17,17,17)\",\"showlakes\":true,\"showland\":true,\"subunitcolor\":\"#506784\"},\"hoverlabel\":{\"align\":\"left\"},\"hovermode\":\"closest\",\"mapbox\":{\"style\":\"dark\"},\"paper_bgcolor\":\"rgb(17,17,17)\",\"plot_bgcolor\":\"rgb(17,17,17)\",\"polar\":{\"angularaxis\":{\"gridcolor\":\"#506784\",\"linecolor\":\"#506784\",\"ticks\":\"\"},\"bgcolor\":\"rgb(17,17,17)\",\"radialaxis\":{\"gridcolor\":\"#506784\",\"linecolor\":\"#506784\",\"ticks\":\"\"}},\"scene\":{\"xaxis\":{\"backgroundcolor\":\"rgb(17,17,17)\",\"gridcolor\":\"#506784\",\"gridwidth\":2,\"linecolor\":\"#506784\",\"showbackground\":true,\"ticks\":\"\",\"zerolinecolor\":\"#C8D4E3\"},\"yaxis\":{\"backgroundcolor\":\"rgb(17,17,17)\",\"gridcolor\":\"#506784\",\"gridwidth\":2,\"linecolor\":\"#506784\",\"showbackground\":true,\"ticks\":\"\",\"zerolinecolor\":\"#C8D4E3\"},\"zaxis\":{\"backgroundcolor\":\"rgb(17,17,17)\",\"gridcolor\":\"#506784\",\"gridwidth\":2,\"linecolor\":\"#506784\",\"showbackground\":true,\"ticks\":\"\",\"zerolinecolor\":\"#C8D4E3\"}},\"shapedefaults\":{\"line\":{\"color\":\"#f2f5fa\"}},\"sliderdefaults\":{\"bgcolor\":\"#C8D4E3\",\"bordercolor\":\"rgb(17,17,17)\",\"borderwidth\":1,\"tickwidth\":0},\"ternary\":{\"aaxis\":{\"gridcolor\":\"#506784\",\"linecolor\":\"#506784\",\"ticks\":\"\"},\"baxis\":{\"gridcolor\":\"#506784\",\"linecolor\":\"#506784\",\"ticks\":\"\"},\"bgcolor\":\"rgb(17,17,17)\",\"caxis\":{\"gridcolor\":\"#506784\",\"linecolor\":\"#506784\",\"ticks\":\"\"}},\"title\":{\"x\":0.05},\"updatemenudefaults\":{\"bgcolor\":\"#506784\",\"borderwidth\":0},\"xaxis\":{\"automargin\":true,\"gridcolor\":\"#283442\",\"linecolor\":\"#506784\",\"ticks\":\"\",\"title\":{\"standoff\":15},\"zerolinecolor\":\"#283442\",\"zerolinewidth\":2},\"yaxis\":{\"automargin\":true,\"gridcolor\":\"#283442\",\"linecolor\":\"#506784\",\"ticks\":\"\",\"title\":{\"standoff\":15},\"zerolinecolor\":\"#283442\",\"zerolinewidth\":2}}},\"xaxis\":{\"anchor\":\"y\",\"domain\":[0.0,1.0],\"title\":{\"text\":\"year\"}},\"yaxis\":{\"anchor\":\"x\",\"domain\":[0.0,1.0],\"title\":{\"text\":\"value\"}},\"legend\":{\"title\":{\"text\":\"variable\"},\"tracegroupgap\":0},\"title\":{\"text\":\" Maternal Mortality Rate in INDIA from 1990 to 2015.\"}},                        {\"responsive\": true}                    ).then(function(){\n",
       "                            \n",
       "var gd = document.getElementById('151ac884-32cd-415c-8f62-5850d2f7a9a4');\n",
       "var x = new MutationObserver(function (mutations, observer) {{\n",
       "        var display = window.getComputedStyle(gd).display;\n",
       "        if (!display || display === 'none') {{\n",
       "            console.log([gd, 'removed!']);\n",
       "            Plotly.purge(gd);\n",
       "            observer.disconnect();\n",
       "        }}\n",
       "}});\n",
       "\n",
       "// Listen for the removal of the full notebook cells\n",
       "var notebookContainer = gd.closest('#notebook-container');\n",
       "if (notebookContainer) {{\n",
       "    x.observe(notebookContainer, {childList: true});\n",
       "}}\n",
       "\n",
       "// Listen for the clearing of the current output cell\n",
       "var outputEl = gd.closest('.output');\n",
       "if (outputEl) {{\n",
       "    x.observe(outputEl, {childList: true});\n",
       "}}\n",
       "\n",
       "                        })                };                });            </script>        </div>"
      ]
     },
     "metadata": {},
     "output_type": "display_data"
    }
   ],
   "source": [
    "# plot the data and MA\n",
    "import plotly.express as px\n",
    "fig = px.line(data, x=\"year\", y=[\"death_rate\"], template = 'plotly_dark', title = ' Maternal Mortality Rate in INDIA from 1990 to 2015.' )\n",
    "fig.show()"
   ]
  },
  {
   "cell_type": "code",
   "execution_count": 199,
   "id": "33e6944e-338d-4aaf-ad4e-970adde046b3",
   "metadata": {},
   "outputs": [],
   "source": [
    "train, test = train_test_split(data, test_size=0.2, random_state=42, shuffle=True)"
   ]
  },
  {
   "cell_type": "code",
   "execution_count": 202,
   "id": "a47a5cd2-f78f-4c27-8660-bb66f149a7c2",
   "metadata": {},
   "outputs": [],
   "source": [
    "# import the regression module\n",
    "from pycaret.regression import predict_model, setup, compare_models, finalize_model"
   ]
  },
  {
   "cell_type": "code",
   "execution_count": 204,
   "id": "84af9cfa-6f2a-4a1b-8b75-de51da046a25",
   "metadata": {},
   "outputs": [
    {
     "data": {
      "text/html": [
       "<style  type=\"text/css\" >\n",
       "    #T_ac653668_9616_11ec_9156_9cfce82f6458row42_col1 {\n",
       "            background-color:  lightgreen;\n",
       "        }    #T_ac653668_9616_11ec_9156_9cfce82f6458row56_col1 {\n",
       "            background-color:  lightgreen;\n",
       "        }</style><table id=\"T_ac653668_9616_11ec_9156_9cfce82f6458\" ><thead>    <tr>        <th class=\"blank level0\" ></th>        <th class=\"col_heading level0 col0\" >Description</th>        <th class=\"col_heading level0 col1\" >Value</th>    </tr></thead><tbody>\n",
       "                <tr>\n",
       "                        <th id=\"T_ac653668_9616_11ec_9156_9cfce82f6458level0_row0\" class=\"row_heading level0 row0\" >0</th>\n",
       "                        <td id=\"T_ac653668_9616_11ec_9156_9cfce82f6458row0_col0\" class=\"data row0 col0\" >session_id</td>\n",
       "                        <td id=\"T_ac653668_9616_11ec_9156_9cfce82f6458row0_col1\" class=\"data row0 col1\" >123</td>\n",
       "            </tr>\n",
       "            <tr>\n",
       "                        <th id=\"T_ac653668_9616_11ec_9156_9cfce82f6458level0_row1\" class=\"row_heading level0 row1\" >1</th>\n",
       "                        <td id=\"T_ac653668_9616_11ec_9156_9cfce82f6458row1_col0\" class=\"data row1 col0\" >Target</td>\n",
       "                        <td id=\"T_ac653668_9616_11ec_9156_9cfce82f6458row1_col1\" class=\"data row1 col1\" >death_rate</td>\n",
       "            </tr>\n",
       "            <tr>\n",
       "                        <th id=\"T_ac653668_9616_11ec_9156_9cfce82f6458level0_row2\" class=\"row_heading level0 row2\" >2</th>\n",
       "                        <td id=\"T_ac653668_9616_11ec_9156_9cfce82f6458row2_col0\" class=\"data row2 col0\" >Original Data</td>\n",
       "                        <td id=\"T_ac653668_9616_11ec_9156_9cfce82f6458row2_col1\" class=\"data row2 col1\" >(20, 2)</td>\n",
       "            </tr>\n",
       "            <tr>\n",
       "                        <th id=\"T_ac653668_9616_11ec_9156_9cfce82f6458level0_row3\" class=\"row_heading level0 row3\" >3</th>\n",
       "                        <td id=\"T_ac653668_9616_11ec_9156_9cfce82f6458row3_col0\" class=\"data row3 col0\" >Missing Values</td>\n",
       "                        <td id=\"T_ac653668_9616_11ec_9156_9cfce82f6458row3_col1\" class=\"data row3 col1\" >False</td>\n",
       "            </tr>\n",
       "            <tr>\n",
       "                        <th id=\"T_ac653668_9616_11ec_9156_9cfce82f6458level0_row4\" class=\"row_heading level0 row4\" >4</th>\n",
       "                        <td id=\"T_ac653668_9616_11ec_9156_9cfce82f6458row4_col0\" class=\"data row4 col0\" >Numeric Features</td>\n",
       "                        <td id=\"T_ac653668_9616_11ec_9156_9cfce82f6458row4_col1\" class=\"data row4 col1\" >1</td>\n",
       "            </tr>\n",
       "            <tr>\n",
       "                        <th id=\"T_ac653668_9616_11ec_9156_9cfce82f6458level0_row5\" class=\"row_heading level0 row5\" >5</th>\n",
       "                        <td id=\"T_ac653668_9616_11ec_9156_9cfce82f6458row5_col0\" class=\"data row5 col0\" >Categorical Features</td>\n",
       "                        <td id=\"T_ac653668_9616_11ec_9156_9cfce82f6458row5_col1\" class=\"data row5 col1\" >0</td>\n",
       "            </tr>\n",
       "            <tr>\n",
       "                        <th id=\"T_ac653668_9616_11ec_9156_9cfce82f6458level0_row6\" class=\"row_heading level0 row6\" >6</th>\n",
       "                        <td id=\"T_ac653668_9616_11ec_9156_9cfce82f6458row6_col0\" class=\"data row6 col0\" >Ordinal Features</td>\n",
       "                        <td id=\"T_ac653668_9616_11ec_9156_9cfce82f6458row6_col1\" class=\"data row6 col1\" >False</td>\n",
       "            </tr>\n",
       "            <tr>\n",
       "                        <th id=\"T_ac653668_9616_11ec_9156_9cfce82f6458level0_row7\" class=\"row_heading level0 row7\" >7</th>\n",
       "                        <td id=\"T_ac653668_9616_11ec_9156_9cfce82f6458row7_col0\" class=\"data row7 col0\" >High Cardinality Features</td>\n",
       "                        <td id=\"T_ac653668_9616_11ec_9156_9cfce82f6458row7_col1\" class=\"data row7 col1\" >False</td>\n",
       "            </tr>\n",
       "            <tr>\n",
       "                        <th id=\"T_ac653668_9616_11ec_9156_9cfce82f6458level0_row8\" class=\"row_heading level0 row8\" >8</th>\n",
       "                        <td id=\"T_ac653668_9616_11ec_9156_9cfce82f6458row8_col0\" class=\"data row8 col0\" >High Cardinality Method</td>\n",
       "                        <td id=\"T_ac653668_9616_11ec_9156_9cfce82f6458row8_col1\" class=\"data row8 col1\" >None</td>\n",
       "            </tr>\n",
       "            <tr>\n",
       "                        <th id=\"T_ac653668_9616_11ec_9156_9cfce82f6458level0_row9\" class=\"row_heading level0 row9\" >9</th>\n",
       "                        <td id=\"T_ac653668_9616_11ec_9156_9cfce82f6458row9_col0\" class=\"data row9 col0\" >Transformed Train Set</td>\n",
       "                        <td id=\"T_ac653668_9616_11ec_9156_9cfce82f6458row9_col1\" class=\"data row9 col1\" >(20, 1)</td>\n",
       "            </tr>\n",
       "            <tr>\n",
       "                        <th id=\"T_ac653668_9616_11ec_9156_9cfce82f6458level0_row10\" class=\"row_heading level0 row10\" >10</th>\n",
       "                        <td id=\"T_ac653668_9616_11ec_9156_9cfce82f6458row10_col0\" class=\"data row10 col0\" >Transformed Test Set</td>\n",
       "                        <td id=\"T_ac653668_9616_11ec_9156_9cfce82f6458row10_col1\" class=\"data row10 col1\" >(6, 1)</td>\n",
       "            </tr>\n",
       "            <tr>\n",
       "                        <th id=\"T_ac653668_9616_11ec_9156_9cfce82f6458level0_row11\" class=\"row_heading level0 row11\" >11</th>\n",
       "                        <td id=\"T_ac653668_9616_11ec_9156_9cfce82f6458row11_col0\" class=\"data row11 col0\" >Shuffle Train-Test</td>\n",
       "                        <td id=\"T_ac653668_9616_11ec_9156_9cfce82f6458row11_col1\" class=\"data row11 col1\" >True</td>\n",
       "            </tr>\n",
       "            <tr>\n",
       "                        <th id=\"T_ac653668_9616_11ec_9156_9cfce82f6458level0_row12\" class=\"row_heading level0 row12\" >12</th>\n",
       "                        <td id=\"T_ac653668_9616_11ec_9156_9cfce82f6458row12_col0\" class=\"data row12 col0\" >Stratify Train-Test</td>\n",
       "                        <td id=\"T_ac653668_9616_11ec_9156_9cfce82f6458row12_col1\" class=\"data row12 col1\" >False</td>\n",
       "            </tr>\n",
       "            <tr>\n",
       "                        <th id=\"T_ac653668_9616_11ec_9156_9cfce82f6458level0_row13\" class=\"row_heading level0 row13\" >13</th>\n",
       "                        <td id=\"T_ac653668_9616_11ec_9156_9cfce82f6458row13_col0\" class=\"data row13 col0\" >Fold Generator</td>\n",
       "                        <td id=\"T_ac653668_9616_11ec_9156_9cfce82f6458row13_col1\" class=\"data row13 col1\" >TimeSeriesSplit</td>\n",
       "            </tr>\n",
       "            <tr>\n",
       "                        <th id=\"T_ac653668_9616_11ec_9156_9cfce82f6458level0_row14\" class=\"row_heading level0 row14\" >14</th>\n",
       "                        <td id=\"T_ac653668_9616_11ec_9156_9cfce82f6458row14_col0\" class=\"data row14 col0\" >Fold Number</td>\n",
       "                        <td id=\"T_ac653668_9616_11ec_9156_9cfce82f6458row14_col1\" class=\"data row14 col1\" >3</td>\n",
       "            </tr>\n",
       "            <tr>\n",
       "                        <th id=\"T_ac653668_9616_11ec_9156_9cfce82f6458level0_row15\" class=\"row_heading level0 row15\" >15</th>\n",
       "                        <td id=\"T_ac653668_9616_11ec_9156_9cfce82f6458row15_col0\" class=\"data row15 col0\" >CPU Jobs</td>\n",
       "                        <td id=\"T_ac653668_9616_11ec_9156_9cfce82f6458row15_col1\" class=\"data row15 col1\" >-1</td>\n",
       "            </tr>\n",
       "            <tr>\n",
       "                        <th id=\"T_ac653668_9616_11ec_9156_9cfce82f6458level0_row16\" class=\"row_heading level0 row16\" >16</th>\n",
       "                        <td id=\"T_ac653668_9616_11ec_9156_9cfce82f6458row16_col0\" class=\"data row16 col0\" >Use GPU</td>\n",
       "                        <td id=\"T_ac653668_9616_11ec_9156_9cfce82f6458row16_col1\" class=\"data row16 col1\" >False</td>\n",
       "            </tr>\n",
       "            <tr>\n",
       "                        <th id=\"T_ac653668_9616_11ec_9156_9cfce82f6458level0_row17\" class=\"row_heading level0 row17\" >17</th>\n",
       "                        <td id=\"T_ac653668_9616_11ec_9156_9cfce82f6458row17_col0\" class=\"data row17 col0\" >Log Experiment</td>\n",
       "                        <td id=\"T_ac653668_9616_11ec_9156_9cfce82f6458row17_col1\" class=\"data row17 col1\" >False</td>\n",
       "            </tr>\n",
       "            <tr>\n",
       "                        <th id=\"T_ac653668_9616_11ec_9156_9cfce82f6458level0_row18\" class=\"row_heading level0 row18\" >18</th>\n",
       "                        <td id=\"T_ac653668_9616_11ec_9156_9cfce82f6458row18_col0\" class=\"data row18 col0\" >Experiment Name</td>\n",
       "                        <td id=\"T_ac653668_9616_11ec_9156_9cfce82f6458row18_col1\" class=\"data row18 col1\" >reg-default-name</td>\n",
       "            </tr>\n",
       "            <tr>\n",
       "                        <th id=\"T_ac653668_9616_11ec_9156_9cfce82f6458level0_row19\" class=\"row_heading level0 row19\" >19</th>\n",
       "                        <td id=\"T_ac653668_9616_11ec_9156_9cfce82f6458row19_col0\" class=\"data row19 col0\" >USI</td>\n",
       "                        <td id=\"T_ac653668_9616_11ec_9156_9cfce82f6458row19_col1\" class=\"data row19 col1\" >b558</td>\n",
       "            </tr>\n",
       "            <tr>\n",
       "                        <th id=\"T_ac653668_9616_11ec_9156_9cfce82f6458level0_row20\" class=\"row_heading level0 row20\" >20</th>\n",
       "                        <td id=\"T_ac653668_9616_11ec_9156_9cfce82f6458row20_col0\" class=\"data row20 col0\" >Imputation Type</td>\n",
       "                        <td id=\"T_ac653668_9616_11ec_9156_9cfce82f6458row20_col1\" class=\"data row20 col1\" >simple</td>\n",
       "            </tr>\n",
       "            <tr>\n",
       "                        <th id=\"T_ac653668_9616_11ec_9156_9cfce82f6458level0_row21\" class=\"row_heading level0 row21\" >21</th>\n",
       "                        <td id=\"T_ac653668_9616_11ec_9156_9cfce82f6458row21_col0\" class=\"data row21 col0\" >Iterative Imputation Iteration</td>\n",
       "                        <td id=\"T_ac653668_9616_11ec_9156_9cfce82f6458row21_col1\" class=\"data row21 col1\" >None</td>\n",
       "            </tr>\n",
       "            <tr>\n",
       "                        <th id=\"T_ac653668_9616_11ec_9156_9cfce82f6458level0_row22\" class=\"row_heading level0 row22\" >22</th>\n",
       "                        <td id=\"T_ac653668_9616_11ec_9156_9cfce82f6458row22_col0\" class=\"data row22 col0\" >Numeric Imputer</td>\n",
       "                        <td id=\"T_ac653668_9616_11ec_9156_9cfce82f6458row22_col1\" class=\"data row22 col1\" >mean</td>\n",
       "            </tr>\n",
       "            <tr>\n",
       "                        <th id=\"T_ac653668_9616_11ec_9156_9cfce82f6458level0_row23\" class=\"row_heading level0 row23\" >23</th>\n",
       "                        <td id=\"T_ac653668_9616_11ec_9156_9cfce82f6458row23_col0\" class=\"data row23 col0\" >Iterative Imputation Numeric Model</td>\n",
       "                        <td id=\"T_ac653668_9616_11ec_9156_9cfce82f6458row23_col1\" class=\"data row23 col1\" >None</td>\n",
       "            </tr>\n",
       "            <tr>\n",
       "                        <th id=\"T_ac653668_9616_11ec_9156_9cfce82f6458level0_row24\" class=\"row_heading level0 row24\" >24</th>\n",
       "                        <td id=\"T_ac653668_9616_11ec_9156_9cfce82f6458row24_col0\" class=\"data row24 col0\" >Categorical Imputer</td>\n",
       "                        <td id=\"T_ac653668_9616_11ec_9156_9cfce82f6458row24_col1\" class=\"data row24 col1\" >constant</td>\n",
       "            </tr>\n",
       "            <tr>\n",
       "                        <th id=\"T_ac653668_9616_11ec_9156_9cfce82f6458level0_row25\" class=\"row_heading level0 row25\" >25</th>\n",
       "                        <td id=\"T_ac653668_9616_11ec_9156_9cfce82f6458row25_col0\" class=\"data row25 col0\" >Iterative Imputation Categorical Model</td>\n",
       "                        <td id=\"T_ac653668_9616_11ec_9156_9cfce82f6458row25_col1\" class=\"data row25 col1\" >None</td>\n",
       "            </tr>\n",
       "            <tr>\n",
       "                        <th id=\"T_ac653668_9616_11ec_9156_9cfce82f6458level0_row26\" class=\"row_heading level0 row26\" >26</th>\n",
       "                        <td id=\"T_ac653668_9616_11ec_9156_9cfce82f6458row26_col0\" class=\"data row26 col0\" >Unknown Categoricals Handling</td>\n",
       "                        <td id=\"T_ac653668_9616_11ec_9156_9cfce82f6458row26_col1\" class=\"data row26 col1\" >least_frequent</td>\n",
       "            </tr>\n",
       "            <tr>\n",
       "                        <th id=\"T_ac653668_9616_11ec_9156_9cfce82f6458level0_row27\" class=\"row_heading level0 row27\" >27</th>\n",
       "                        <td id=\"T_ac653668_9616_11ec_9156_9cfce82f6458row27_col0\" class=\"data row27 col0\" >Normalize</td>\n",
       "                        <td id=\"T_ac653668_9616_11ec_9156_9cfce82f6458row27_col1\" class=\"data row27 col1\" >False</td>\n",
       "            </tr>\n",
       "            <tr>\n",
       "                        <th id=\"T_ac653668_9616_11ec_9156_9cfce82f6458level0_row28\" class=\"row_heading level0 row28\" >28</th>\n",
       "                        <td id=\"T_ac653668_9616_11ec_9156_9cfce82f6458row28_col0\" class=\"data row28 col0\" >Normalize Method</td>\n",
       "                        <td id=\"T_ac653668_9616_11ec_9156_9cfce82f6458row28_col1\" class=\"data row28 col1\" >None</td>\n",
       "            </tr>\n",
       "            <tr>\n",
       "                        <th id=\"T_ac653668_9616_11ec_9156_9cfce82f6458level0_row29\" class=\"row_heading level0 row29\" >29</th>\n",
       "                        <td id=\"T_ac653668_9616_11ec_9156_9cfce82f6458row29_col0\" class=\"data row29 col0\" >Transformation</td>\n",
       "                        <td id=\"T_ac653668_9616_11ec_9156_9cfce82f6458row29_col1\" class=\"data row29 col1\" >False</td>\n",
       "            </tr>\n",
       "            <tr>\n",
       "                        <th id=\"T_ac653668_9616_11ec_9156_9cfce82f6458level0_row30\" class=\"row_heading level0 row30\" >30</th>\n",
       "                        <td id=\"T_ac653668_9616_11ec_9156_9cfce82f6458row30_col0\" class=\"data row30 col0\" >Transformation Method</td>\n",
       "                        <td id=\"T_ac653668_9616_11ec_9156_9cfce82f6458row30_col1\" class=\"data row30 col1\" >None</td>\n",
       "            </tr>\n",
       "            <tr>\n",
       "                        <th id=\"T_ac653668_9616_11ec_9156_9cfce82f6458level0_row31\" class=\"row_heading level0 row31\" >31</th>\n",
       "                        <td id=\"T_ac653668_9616_11ec_9156_9cfce82f6458row31_col0\" class=\"data row31 col0\" >PCA</td>\n",
       "                        <td id=\"T_ac653668_9616_11ec_9156_9cfce82f6458row31_col1\" class=\"data row31 col1\" >False</td>\n",
       "            </tr>\n",
       "            <tr>\n",
       "                        <th id=\"T_ac653668_9616_11ec_9156_9cfce82f6458level0_row32\" class=\"row_heading level0 row32\" >32</th>\n",
       "                        <td id=\"T_ac653668_9616_11ec_9156_9cfce82f6458row32_col0\" class=\"data row32 col0\" >PCA Method</td>\n",
       "                        <td id=\"T_ac653668_9616_11ec_9156_9cfce82f6458row32_col1\" class=\"data row32 col1\" >None</td>\n",
       "            </tr>\n",
       "            <tr>\n",
       "                        <th id=\"T_ac653668_9616_11ec_9156_9cfce82f6458level0_row33\" class=\"row_heading level0 row33\" >33</th>\n",
       "                        <td id=\"T_ac653668_9616_11ec_9156_9cfce82f6458row33_col0\" class=\"data row33 col0\" >PCA Components</td>\n",
       "                        <td id=\"T_ac653668_9616_11ec_9156_9cfce82f6458row33_col1\" class=\"data row33 col1\" >None</td>\n",
       "            </tr>\n",
       "            <tr>\n",
       "                        <th id=\"T_ac653668_9616_11ec_9156_9cfce82f6458level0_row34\" class=\"row_heading level0 row34\" >34</th>\n",
       "                        <td id=\"T_ac653668_9616_11ec_9156_9cfce82f6458row34_col0\" class=\"data row34 col0\" >Ignore Low Variance</td>\n",
       "                        <td id=\"T_ac653668_9616_11ec_9156_9cfce82f6458row34_col1\" class=\"data row34 col1\" >False</td>\n",
       "            </tr>\n",
       "            <tr>\n",
       "                        <th id=\"T_ac653668_9616_11ec_9156_9cfce82f6458level0_row35\" class=\"row_heading level0 row35\" >35</th>\n",
       "                        <td id=\"T_ac653668_9616_11ec_9156_9cfce82f6458row35_col0\" class=\"data row35 col0\" >Combine Rare Levels</td>\n",
       "                        <td id=\"T_ac653668_9616_11ec_9156_9cfce82f6458row35_col1\" class=\"data row35 col1\" >False</td>\n",
       "            </tr>\n",
       "            <tr>\n",
       "                        <th id=\"T_ac653668_9616_11ec_9156_9cfce82f6458level0_row36\" class=\"row_heading level0 row36\" >36</th>\n",
       "                        <td id=\"T_ac653668_9616_11ec_9156_9cfce82f6458row36_col0\" class=\"data row36 col0\" >Rare Level Threshold</td>\n",
       "                        <td id=\"T_ac653668_9616_11ec_9156_9cfce82f6458row36_col1\" class=\"data row36 col1\" >None</td>\n",
       "            </tr>\n",
       "            <tr>\n",
       "                        <th id=\"T_ac653668_9616_11ec_9156_9cfce82f6458level0_row37\" class=\"row_heading level0 row37\" >37</th>\n",
       "                        <td id=\"T_ac653668_9616_11ec_9156_9cfce82f6458row37_col0\" class=\"data row37 col0\" >Numeric Binning</td>\n",
       "                        <td id=\"T_ac653668_9616_11ec_9156_9cfce82f6458row37_col1\" class=\"data row37 col1\" >False</td>\n",
       "            </tr>\n",
       "            <tr>\n",
       "                        <th id=\"T_ac653668_9616_11ec_9156_9cfce82f6458level0_row38\" class=\"row_heading level0 row38\" >38</th>\n",
       "                        <td id=\"T_ac653668_9616_11ec_9156_9cfce82f6458row38_col0\" class=\"data row38 col0\" >Remove Outliers</td>\n",
       "                        <td id=\"T_ac653668_9616_11ec_9156_9cfce82f6458row38_col1\" class=\"data row38 col1\" >False</td>\n",
       "            </tr>\n",
       "            <tr>\n",
       "                        <th id=\"T_ac653668_9616_11ec_9156_9cfce82f6458level0_row39\" class=\"row_heading level0 row39\" >39</th>\n",
       "                        <td id=\"T_ac653668_9616_11ec_9156_9cfce82f6458row39_col0\" class=\"data row39 col0\" >Outliers Threshold</td>\n",
       "                        <td id=\"T_ac653668_9616_11ec_9156_9cfce82f6458row39_col1\" class=\"data row39 col1\" >None</td>\n",
       "            </tr>\n",
       "            <tr>\n",
       "                        <th id=\"T_ac653668_9616_11ec_9156_9cfce82f6458level0_row40\" class=\"row_heading level0 row40\" >40</th>\n",
       "                        <td id=\"T_ac653668_9616_11ec_9156_9cfce82f6458row40_col0\" class=\"data row40 col0\" >Remove Multicollinearity</td>\n",
       "                        <td id=\"T_ac653668_9616_11ec_9156_9cfce82f6458row40_col1\" class=\"data row40 col1\" >False</td>\n",
       "            </tr>\n",
       "            <tr>\n",
       "                        <th id=\"T_ac653668_9616_11ec_9156_9cfce82f6458level0_row41\" class=\"row_heading level0 row41\" >41</th>\n",
       "                        <td id=\"T_ac653668_9616_11ec_9156_9cfce82f6458row41_col0\" class=\"data row41 col0\" >Multicollinearity Threshold</td>\n",
       "                        <td id=\"T_ac653668_9616_11ec_9156_9cfce82f6458row41_col1\" class=\"data row41 col1\" >None</td>\n",
       "            </tr>\n",
       "            <tr>\n",
       "                        <th id=\"T_ac653668_9616_11ec_9156_9cfce82f6458level0_row42\" class=\"row_heading level0 row42\" >42</th>\n",
       "                        <td id=\"T_ac653668_9616_11ec_9156_9cfce82f6458row42_col0\" class=\"data row42 col0\" >Remove Perfect Collinearity</td>\n",
       "                        <td id=\"T_ac653668_9616_11ec_9156_9cfce82f6458row42_col1\" class=\"data row42 col1\" >True</td>\n",
       "            </tr>\n",
       "            <tr>\n",
       "                        <th id=\"T_ac653668_9616_11ec_9156_9cfce82f6458level0_row43\" class=\"row_heading level0 row43\" >43</th>\n",
       "                        <td id=\"T_ac653668_9616_11ec_9156_9cfce82f6458row43_col0\" class=\"data row43 col0\" >Clustering</td>\n",
       "                        <td id=\"T_ac653668_9616_11ec_9156_9cfce82f6458row43_col1\" class=\"data row43 col1\" >False</td>\n",
       "            </tr>\n",
       "            <tr>\n",
       "                        <th id=\"T_ac653668_9616_11ec_9156_9cfce82f6458level0_row44\" class=\"row_heading level0 row44\" >44</th>\n",
       "                        <td id=\"T_ac653668_9616_11ec_9156_9cfce82f6458row44_col0\" class=\"data row44 col0\" >Clustering Iteration</td>\n",
       "                        <td id=\"T_ac653668_9616_11ec_9156_9cfce82f6458row44_col1\" class=\"data row44 col1\" >None</td>\n",
       "            </tr>\n",
       "            <tr>\n",
       "                        <th id=\"T_ac653668_9616_11ec_9156_9cfce82f6458level0_row45\" class=\"row_heading level0 row45\" >45</th>\n",
       "                        <td id=\"T_ac653668_9616_11ec_9156_9cfce82f6458row45_col0\" class=\"data row45 col0\" >Polynomial Features</td>\n",
       "                        <td id=\"T_ac653668_9616_11ec_9156_9cfce82f6458row45_col1\" class=\"data row45 col1\" >False</td>\n",
       "            </tr>\n",
       "            <tr>\n",
       "                        <th id=\"T_ac653668_9616_11ec_9156_9cfce82f6458level0_row46\" class=\"row_heading level0 row46\" >46</th>\n",
       "                        <td id=\"T_ac653668_9616_11ec_9156_9cfce82f6458row46_col0\" class=\"data row46 col0\" >Polynomial Degree</td>\n",
       "                        <td id=\"T_ac653668_9616_11ec_9156_9cfce82f6458row46_col1\" class=\"data row46 col1\" >None</td>\n",
       "            </tr>\n",
       "            <tr>\n",
       "                        <th id=\"T_ac653668_9616_11ec_9156_9cfce82f6458level0_row47\" class=\"row_heading level0 row47\" >47</th>\n",
       "                        <td id=\"T_ac653668_9616_11ec_9156_9cfce82f6458row47_col0\" class=\"data row47 col0\" >Trignometry Features</td>\n",
       "                        <td id=\"T_ac653668_9616_11ec_9156_9cfce82f6458row47_col1\" class=\"data row47 col1\" >False</td>\n",
       "            </tr>\n",
       "            <tr>\n",
       "                        <th id=\"T_ac653668_9616_11ec_9156_9cfce82f6458level0_row48\" class=\"row_heading level0 row48\" >48</th>\n",
       "                        <td id=\"T_ac653668_9616_11ec_9156_9cfce82f6458row48_col0\" class=\"data row48 col0\" >Polynomial Threshold</td>\n",
       "                        <td id=\"T_ac653668_9616_11ec_9156_9cfce82f6458row48_col1\" class=\"data row48 col1\" >None</td>\n",
       "            </tr>\n",
       "            <tr>\n",
       "                        <th id=\"T_ac653668_9616_11ec_9156_9cfce82f6458level0_row49\" class=\"row_heading level0 row49\" >49</th>\n",
       "                        <td id=\"T_ac653668_9616_11ec_9156_9cfce82f6458row49_col0\" class=\"data row49 col0\" >Group Features</td>\n",
       "                        <td id=\"T_ac653668_9616_11ec_9156_9cfce82f6458row49_col1\" class=\"data row49 col1\" >False</td>\n",
       "            </tr>\n",
       "            <tr>\n",
       "                        <th id=\"T_ac653668_9616_11ec_9156_9cfce82f6458level0_row50\" class=\"row_heading level0 row50\" >50</th>\n",
       "                        <td id=\"T_ac653668_9616_11ec_9156_9cfce82f6458row50_col0\" class=\"data row50 col0\" >Feature Selection</td>\n",
       "                        <td id=\"T_ac653668_9616_11ec_9156_9cfce82f6458row50_col1\" class=\"data row50 col1\" >False</td>\n",
       "            </tr>\n",
       "            <tr>\n",
       "                        <th id=\"T_ac653668_9616_11ec_9156_9cfce82f6458level0_row51\" class=\"row_heading level0 row51\" >51</th>\n",
       "                        <td id=\"T_ac653668_9616_11ec_9156_9cfce82f6458row51_col0\" class=\"data row51 col0\" >Feature Selection Method</td>\n",
       "                        <td id=\"T_ac653668_9616_11ec_9156_9cfce82f6458row51_col1\" class=\"data row51 col1\" >classic</td>\n",
       "            </tr>\n",
       "            <tr>\n",
       "                        <th id=\"T_ac653668_9616_11ec_9156_9cfce82f6458level0_row52\" class=\"row_heading level0 row52\" >52</th>\n",
       "                        <td id=\"T_ac653668_9616_11ec_9156_9cfce82f6458row52_col0\" class=\"data row52 col0\" >Features Selection Threshold</td>\n",
       "                        <td id=\"T_ac653668_9616_11ec_9156_9cfce82f6458row52_col1\" class=\"data row52 col1\" >None</td>\n",
       "            </tr>\n",
       "            <tr>\n",
       "                        <th id=\"T_ac653668_9616_11ec_9156_9cfce82f6458level0_row53\" class=\"row_heading level0 row53\" >53</th>\n",
       "                        <td id=\"T_ac653668_9616_11ec_9156_9cfce82f6458row53_col0\" class=\"data row53 col0\" >Feature Interaction</td>\n",
       "                        <td id=\"T_ac653668_9616_11ec_9156_9cfce82f6458row53_col1\" class=\"data row53 col1\" >False</td>\n",
       "            </tr>\n",
       "            <tr>\n",
       "                        <th id=\"T_ac653668_9616_11ec_9156_9cfce82f6458level0_row54\" class=\"row_heading level0 row54\" >54</th>\n",
       "                        <td id=\"T_ac653668_9616_11ec_9156_9cfce82f6458row54_col0\" class=\"data row54 col0\" >Feature Ratio</td>\n",
       "                        <td id=\"T_ac653668_9616_11ec_9156_9cfce82f6458row54_col1\" class=\"data row54 col1\" >False</td>\n",
       "            </tr>\n",
       "            <tr>\n",
       "                        <th id=\"T_ac653668_9616_11ec_9156_9cfce82f6458level0_row55\" class=\"row_heading level0 row55\" >55</th>\n",
       "                        <td id=\"T_ac653668_9616_11ec_9156_9cfce82f6458row55_col0\" class=\"data row55 col0\" >Interaction Threshold</td>\n",
       "                        <td id=\"T_ac653668_9616_11ec_9156_9cfce82f6458row55_col1\" class=\"data row55 col1\" >None</td>\n",
       "            </tr>\n",
       "            <tr>\n",
       "                        <th id=\"T_ac653668_9616_11ec_9156_9cfce82f6458level0_row56\" class=\"row_heading level0 row56\" >56</th>\n",
       "                        <td id=\"T_ac653668_9616_11ec_9156_9cfce82f6458row56_col0\" class=\"data row56 col0\" >Transform Target</td>\n",
       "                        <td id=\"T_ac653668_9616_11ec_9156_9cfce82f6458row56_col1\" class=\"data row56 col1\" >True</td>\n",
       "            </tr>\n",
       "            <tr>\n",
       "                        <th id=\"T_ac653668_9616_11ec_9156_9cfce82f6458level0_row57\" class=\"row_heading level0 row57\" >57</th>\n",
       "                        <td id=\"T_ac653668_9616_11ec_9156_9cfce82f6458row57_col0\" class=\"data row57 col0\" >Transform Target Method</td>\n",
       "                        <td id=\"T_ac653668_9616_11ec_9156_9cfce82f6458row57_col1\" class=\"data row57 col1\" >box-cox</td>\n",
       "            </tr>\n",
       "    </tbody></table>"
      ],
      "text/plain": [
       "<pandas.io.formats.style.Styler at 0x7fd5b0d3d2b0>"
      ]
     },
     "metadata": {},
     "output_type": "display_data"
    }
   ],
   "source": [
    "# initialize setup\n",
    "s = setup(data = train, test_data = test, target = 'death_rate', fold_strategy = 'timeseries', numeric_features = ['year'], fold = 3, transform_target = True, session_id = 123)"
   ]
  },
  {
   "cell_type": "code",
   "execution_count": 205,
   "id": "de5e248f-3e48-4c29-9b5f-e616f3f202c5",
   "metadata": {},
   "outputs": [
    {
     "data": {
      "text/html": [
       "<style  type=\"text/css\" >\n",
       "    #T_b362dccc_9616_11ec_9156_9cfce82f6458 th {\n",
       "          text-align: left;\n",
       "    }    #T_b362dccc_9616_11ec_9156_9cfce82f6458row0_col0 {\n",
       "            text-align:  left;\n",
       "            text-align:  left;\n",
       "        }    #T_b362dccc_9616_11ec_9156_9cfce82f6458row0_col1 {\n",
       "            text-align:  left;\n",
       "            text-align:  left;\n",
       "            background-color:  yellow;\n",
       "        }    #T_b362dccc_9616_11ec_9156_9cfce82f6458row0_col2 {\n",
       "            text-align:  left;\n",
       "            text-align:  left;\n",
       "            background-color:  yellow;\n",
       "        }    #T_b362dccc_9616_11ec_9156_9cfce82f6458row0_col3 {\n",
       "            text-align:  left;\n",
       "            text-align:  left;\n",
       "            background-color:  yellow;\n",
       "        }    #T_b362dccc_9616_11ec_9156_9cfce82f6458row0_col4 {\n",
       "            text-align:  left;\n",
       "            text-align:  left;\n",
       "            background-color:  yellow;\n",
       "        }    #T_b362dccc_9616_11ec_9156_9cfce82f6458row0_col5 {\n",
       "            text-align:  left;\n",
       "            text-align:  left;\n",
       "            background-color:  yellow;\n",
       "        }    #T_b362dccc_9616_11ec_9156_9cfce82f6458row0_col6 {\n",
       "            text-align:  left;\n",
       "            text-align:  left;\n",
       "            background-color:  yellow;\n",
       "        }    #T_b362dccc_9616_11ec_9156_9cfce82f6458row0_col7 {\n",
       "            text-align:  left;\n",
       "            text-align:  left;\n",
       "            : ;\n",
       "            background-color:  lightgrey;\n",
       "        }    #T_b362dccc_9616_11ec_9156_9cfce82f6458row1_col0 {\n",
       "            text-align:  left;\n",
       "            text-align:  left;\n",
       "        }    #T_b362dccc_9616_11ec_9156_9cfce82f6458row1_col1 {\n",
       "            text-align:  left;\n",
       "            text-align:  left;\n",
       "            : ;\n",
       "        }    #T_b362dccc_9616_11ec_9156_9cfce82f6458row1_col2 {\n",
       "            text-align:  left;\n",
       "            text-align:  left;\n",
       "            : ;\n",
       "        }    #T_b362dccc_9616_11ec_9156_9cfce82f6458row1_col3 {\n",
       "            text-align:  left;\n",
       "            text-align:  left;\n",
       "            : ;\n",
       "        }    #T_b362dccc_9616_11ec_9156_9cfce82f6458row1_col4 {\n",
       "            text-align:  left;\n",
       "            text-align:  left;\n",
       "            : ;\n",
       "        }    #T_b362dccc_9616_11ec_9156_9cfce82f6458row1_col5 {\n",
       "            text-align:  left;\n",
       "            text-align:  left;\n",
       "            : ;\n",
       "        }    #T_b362dccc_9616_11ec_9156_9cfce82f6458row1_col6 {\n",
       "            text-align:  left;\n",
       "            text-align:  left;\n",
       "            : ;\n",
       "        }    #T_b362dccc_9616_11ec_9156_9cfce82f6458row1_col7 {\n",
       "            text-align:  left;\n",
       "            text-align:  left;\n",
       "            background-color:  yellow;\n",
       "            background-color:  lightgrey;\n",
       "        }    #T_b362dccc_9616_11ec_9156_9cfce82f6458row2_col0 {\n",
       "            text-align:  left;\n",
       "            text-align:  left;\n",
       "        }    #T_b362dccc_9616_11ec_9156_9cfce82f6458row2_col1 {\n",
       "            text-align:  left;\n",
       "            text-align:  left;\n",
       "            : ;\n",
       "        }    #T_b362dccc_9616_11ec_9156_9cfce82f6458row2_col2 {\n",
       "            text-align:  left;\n",
       "            text-align:  left;\n",
       "            : ;\n",
       "        }    #T_b362dccc_9616_11ec_9156_9cfce82f6458row2_col3 {\n",
       "            text-align:  left;\n",
       "            text-align:  left;\n",
       "            : ;\n",
       "        }    #T_b362dccc_9616_11ec_9156_9cfce82f6458row2_col4 {\n",
       "            text-align:  left;\n",
       "            text-align:  left;\n",
       "            : ;\n",
       "        }    #T_b362dccc_9616_11ec_9156_9cfce82f6458row2_col5 {\n",
       "            text-align:  left;\n",
       "            text-align:  left;\n",
       "            : ;\n",
       "        }    #T_b362dccc_9616_11ec_9156_9cfce82f6458row2_col6 {\n",
       "            text-align:  left;\n",
       "            text-align:  left;\n",
       "            : ;\n",
       "        }    #T_b362dccc_9616_11ec_9156_9cfce82f6458row2_col7 {\n",
       "            text-align:  left;\n",
       "            text-align:  left;\n",
       "            : ;\n",
       "            background-color:  lightgrey;\n",
       "        }    #T_b362dccc_9616_11ec_9156_9cfce82f6458row3_col0 {\n",
       "            text-align:  left;\n",
       "            text-align:  left;\n",
       "        }    #T_b362dccc_9616_11ec_9156_9cfce82f6458row3_col1 {\n",
       "            text-align:  left;\n",
       "            text-align:  left;\n",
       "            : ;\n",
       "        }    #T_b362dccc_9616_11ec_9156_9cfce82f6458row3_col2 {\n",
       "            text-align:  left;\n",
       "            text-align:  left;\n",
       "            : ;\n",
       "        }    #T_b362dccc_9616_11ec_9156_9cfce82f6458row3_col3 {\n",
       "            text-align:  left;\n",
       "            text-align:  left;\n",
       "            : ;\n",
       "        }    #T_b362dccc_9616_11ec_9156_9cfce82f6458row3_col4 {\n",
       "            text-align:  left;\n",
       "            text-align:  left;\n",
       "            : ;\n",
       "        }    #T_b362dccc_9616_11ec_9156_9cfce82f6458row3_col5 {\n",
       "            text-align:  left;\n",
       "            text-align:  left;\n",
       "            : ;\n",
       "        }    #T_b362dccc_9616_11ec_9156_9cfce82f6458row3_col6 {\n",
       "            text-align:  left;\n",
       "            text-align:  left;\n",
       "            : ;\n",
       "        }    #T_b362dccc_9616_11ec_9156_9cfce82f6458row3_col7 {\n",
       "            text-align:  left;\n",
       "            text-align:  left;\n",
       "            : ;\n",
       "            background-color:  lightgrey;\n",
       "        }    #T_b362dccc_9616_11ec_9156_9cfce82f6458row4_col0 {\n",
       "            text-align:  left;\n",
       "            text-align:  left;\n",
       "        }    #T_b362dccc_9616_11ec_9156_9cfce82f6458row4_col1 {\n",
       "            text-align:  left;\n",
       "            text-align:  left;\n",
       "            : ;\n",
       "        }    #T_b362dccc_9616_11ec_9156_9cfce82f6458row4_col2 {\n",
       "            text-align:  left;\n",
       "            text-align:  left;\n",
       "            : ;\n",
       "        }    #T_b362dccc_9616_11ec_9156_9cfce82f6458row4_col3 {\n",
       "            text-align:  left;\n",
       "            text-align:  left;\n",
       "            : ;\n",
       "        }    #T_b362dccc_9616_11ec_9156_9cfce82f6458row4_col4 {\n",
       "            text-align:  left;\n",
       "            text-align:  left;\n",
       "            : ;\n",
       "        }    #T_b362dccc_9616_11ec_9156_9cfce82f6458row4_col5 {\n",
       "            text-align:  left;\n",
       "            text-align:  left;\n",
       "            : ;\n",
       "        }    #T_b362dccc_9616_11ec_9156_9cfce82f6458row4_col6 {\n",
       "            text-align:  left;\n",
       "            text-align:  left;\n",
       "            : ;\n",
       "        }    #T_b362dccc_9616_11ec_9156_9cfce82f6458row4_col7 {\n",
       "            text-align:  left;\n",
       "            text-align:  left;\n",
       "            background-color:  yellow;\n",
       "            background-color:  lightgrey;\n",
       "        }    #T_b362dccc_9616_11ec_9156_9cfce82f6458row5_col0 {\n",
       "            text-align:  left;\n",
       "            text-align:  left;\n",
       "        }    #T_b362dccc_9616_11ec_9156_9cfce82f6458row5_col1 {\n",
       "            text-align:  left;\n",
       "            text-align:  left;\n",
       "            : ;\n",
       "        }    #T_b362dccc_9616_11ec_9156_9cfce82f6458row5_col2 {\n",
       "            text-align:  left;\n",
       "            text-align:  left;\n",
       "            : ;\n",
       "        }    #T_b362dccc_9616_11ec_9156_9cfce82f6458row5_col3 {\n",
       "            text-align:  left;\n",
       "            text-align:  left;\n",
       "            : ;\n",
       "        }    #T_b362dccc_9616_11ec_9156_9cfce82f6458row5_col4 {\n",
       "            text-align:  left;\n",
       "            text-align:  left;\n",
       "            : ;\n",
       "        }    #T_b362dccc_9616_11ec_9156_9cfce82f6458row5_col5 {\n",
       "            text-align:  left;\n",
       "            text-align:  left;\n",
       "            : ;\n",
       "        }    #T_b362dccc_9616_11ec_9156_9cfce82f6458row5_col6 {\n",
       "            text-align:  left;\n",
       "            text-align:  left;\n",
       "            : ;\n",
       "        }    #T_b362dccc_9616_11ec_9156_9cfce82f6458row5_col7 {\n",
       "            text-align:  left;\n",
       "            text-align:  left;\n",
       "            background-color:  yellow;\n",
       "            background-color:  lightgrey;\n",
       "        }    #T_b362dccc_9616_11ec_9156_9cfce82f6458row6_col0 {\n",
       "            text-align:  left;\n",
       "            text-align:  left;\n",
       "        }    #T_b362dccc_9616_11ec_9156_9cfce82f6458row6_col1 {\n",
       "            text-align:  left;\n",
       "            text-align:  left;\n",
       "            : ;\n",
       "        }    #T_b362dccc_9616_11ec_9156_9cfce82f6458row6_col2 {\n",
       "            text-align:  left;\n",
       "            text-align:  left;\n",
       "            : ;\n",
       "        }    #T_b362dccc_9616_11ec_9156_9cfce82f6458row6_col3 {\n",
       "            text-align:  left;\n",
       "            text-align:  left;\n",
       "            : ;\n",
       "        }    #T_b362dccc_9616_11ec_9156_9cfce82f6458row6_col4 {\n",
       "            text-align:  left;\n",
       "            text-align:  left;\n",
       "            : ;\n",
       "        }    #T_b362dccc_9616_11ec_9156_9cfce82f6458row6_col5 {\n",
       "            text-align:  left;\n",
       "            text-align:  left;\n",
       "            : ;\n",
       "        }    #T_b362dccc_9616_11ec_9156_9cfce82f6458row6_col6 {\n",
       "            text-align:  left;\n",
       "            text-align:  left;\n",
       "            : ;\n",
       "        }    #T_b362dccc_9616_11ec_9156_9cfce82f6458row6_col7 {\n",
       "            text-align:  left;\n",
       "            text-align:  left;\n",
       "            : ;\n",
       "            background-color:  lightgrey;\n",
       "        }    #T_b362dccc_9616_11ec_9156_9cfce82f6458row7_col0 {\n",
       "            text-align:  left;\n",
       "            text-align:  left;\n",
       "        }    #T_b362dccc_9616_11ec_9156_9cfce82f6458row7_col1 {\n",
       "            text-align:  left;\n",
       "            text-align:  left;\n",
       "            : ;\n",
       "        }    #T_b362dccc_9616_11ec_9156_9cfce82f6458row7_col2 {\n",
       "            text-align:  left;\n",
       "            text-align:  left;\n",
       "            : ;\n",
       "        }    #T_b362dccc_9616_11ec_9156_9cfce82f6458row7_col3 {\n",
       "            text-align:  left;\n",
       "            text-align:  left;\n",
       "            : ;\n",
       "        }    #T_b362dccc_9616_11ec_9156_9cfce82f6458row7_col4 {\n",
       "            text-align:  left;\n",
       "            text-align:  left;\n",
       "            : ;\n",
       "        }    #T_b362dccc_9616_11ec_9156_9cfce82f6458row7_col5 {\n",
       "            text-align:  left;\n",
       "            text-align:  left;\n",
       "            : ;\n",
       "        }    #T_b362dccc_9616_11ec_9156_9cfce82f6458row7_col6 {\n",
       "            text-align:  left;\n",
       "            text-align:  left;\n",
       "            : ;\n",
       "        }    #T_b362dccc_9616_11ec_9156_9cfce82f6458row7_col7 {\n",
       "            text-align:  left;\n",
       "            text-align:  left;\n",
       "            : ;\n",
       "            background-color:  lightgrey;\n",
       "        }    #T_b362dccc_9616_11ec_9156_9cfce82f6458row8_col0 {\n",
       "            text-align:  left;\n",
       "            text-align:  left;\n",
       "        }    #T_b362dccc_9616_11ec_9156_9cfce82f6458row8_col1 {\n",
       "            text-align:  left;\n",
       "            text-align:  left;\n",
       "            : ;\n",
       "        }    #T_b362dccc_9616_11ec_9156_9cfce82f6458row8_col2 {\n",
       "            text-align:  left;\n",
       "            text-align:  left;\n",
       "            : ;\n",
       "        }    #T_b362dccc_9616_11ec_9156_9cfce82f6458row8_col3 {\n",
       "            text-align:  left;\n",
       "            text-align:  left;\n",
       "            : ;\n",
       "        }    #T_b362dccc_9616_11ec_9156_9cfce82f6458row8_col4 {\n",
       "            text-align:  left;\n",
       "            text-align:  left;\n",
       "            : ;\n",
       "        }    #T_b362dccc_9616_11ec_9156_9cfce82f6458row8_col5 {\n",
       "            text-align:  left;\n",
       "            text-align:  left;\n",
       "            : ;\n",
       "        }    #T_b362dccc_9616_11ec_9156_9cfce82f6458row8_col6 {\n",
       "            text-align:  left;\n",
       "            text-align:  left;\n",
       "            : ;\n",
       "        }    #T_b362dccc_9616_11ec_9156_9cfce82f6458row8_col7 {\n",
       "            text-align:  left;\n",
       "            text-align:  left;\n",
       "            background-color:  yellow;\n",
       "            background-color:  lightgrey;\n",
       "        }    #T_b362dccc_9616_11ec_9156_9cfce82f6458row9_col0 {\n",
       "            text-align:  left;\n",
       "            text-align:  left;\n",
       "        }    #T_b362dccc_9616_11ec_9156_9cfce82f6458row9_col1 {\n",
       "            text-align:  left;\n",
       "            text-align:  left;\n",
       "            : ;\n",
       "        }    #T_b362dccc_9616_11ec_9156_9cfce82f6458row9_col2 {\n",
       "            text-align:  left;\n",
       "            text-align:  left;\n",
       "            : ;\n",
       "        }    #T_b362dccc_9616_11ec_9156_9cfce82f6458row9_col3 {\n",
       "            text-align:  left;\n",
       "            text-align:  left;\n",
       "            : ;\n",
       "        }    #T_b362dccc_9616_11ec_9156_9cfce82f6458row9_col4 {\n",
       "            text-align:  left;\n",
       "            text-align:  left;\n",
       "            : ;\n",
       "        }    #T_b362dccc_9616_11ec_9156_9cfce82f6458row9_col5 {\n",
       "            text-align:  left;\n",
       "            text-align:  left;\n",
       "            : ;\n",
       "        }    #T_b362dccc_9616_11ec_9156_9cfce82f6458row9_col6 {\n",
       "            text-align:  left;\n",
       "            text-align:  left;\n",
       "            : ;\n",
       "        }    #T_b362dccc_9616_11ec_9156_9cfce82f6458row9_col7 {\n",
       "            text-align:  left;\n",
       "            text-align:  left;\n",
       "            : ;\n",
       "            background-color:  lightgrey;\n",
       "        }    #T_b362dccc_9616_11ec_9156_9cfce82f6458row10_col0 {\n",
       "            text-align:  left;\n",
       "            text-align:  left;\n",
       "        }    #T_b362dccc_9616_11ec_9156_9cfce82f6458row10_col1 {\n",
       "            text-align:  left;\n",
       "            text-align:  left;\n",
       "            : ;\n",
       "        }    #T_b362dccc_9616_11ec_9156_9cfce82f6458row10_col2 {\n",
       "            text-align:  left;\n",
       "            text-align:  left;\n",
       "            : ;\n",
       "        }    #T_b362dccc_9616_11ec_9156_9cfce82f6458row10_col3 {\n",
       "            text-align:  left;\n",
       "            text-align:  left;\n",
       "            : ;\n",
       "        }    #T_b362dccc_9616_11ec_9156_9cfce82f6458row10_col4 {\n",
       "            text-align:  left;\n",
       "            text-align:  left;\n",
       "            : ;\n",
       "        }    #T_b362dccc_9616_11ec_9156_9cfce82f6458row10_col5 {\n",
       "            text-align:  left;\n",
       "            text-align:  left;\n",
       "            : ;\n",
       "        }    #T_b362dccc_9616_11ec_9156_9cfce82f6458row10_col6 {\n",
       "            text-align:  left;\n",
       "            text-align:  left;\n",
       "            : ;\n",
       "        }    #T_b362dccc_9616_11ec_9156_9cfce82f6458row10_col7 {\n",
       "            text-align:  left;\n",
       "            text-align:  left;\n",
       "            : ;\n",
       "            background-color:  lightgrey;\n",
       "        }    #T_b362dccc_9616_11ec_9156_9cfce82f6458row11_col0 {\n",
       "            text-align:  left;\n",
       "            text-align:  left;\n",
       "        }    #T_b362dccc_9616_11ec_9156_9cfce82f6458row11_col1 {\n",
       "            text-align:  left;\n",
       "            text-align:  left;\n",
       "            : ;\n",
       "        }    #T_b362dccc_9616_11ec_9156_9cfce82f6458row11_col2 {\n",
       "            text-align:  left;\n",
       "            text-align:  left;\n",
       "            : ;\n",
       "        }    #T_b362dccc_9616_11ec_9156_9cfce82f6458row11_col3 {\n",
       "            text-align:  left;\n",
       "            text-align:  left;\n",
       "            : ;\n",
       "        }    #T_b362dccc_9616_11ec_9156_9cfce82f6458row11_col4 {\n",
       "            text-align:  left;\n",
       "            text-align:  left;\n",
       "            : ;\n",
       "        }    #T_b362dccc_9616_11ec_9156_9cfce82f6458row11_col5 {\n",
       "            text-align:  left;\n",
       "            text-align:  left;\n",
       "            : ;\n",
       "        }    #T_b362dccc_9616_11ec_9156_9cfce82f6458row11_col6 {\n",
       "            text-align:  left;\n",
       "            text-align:  left;\n",
       "            : ;\n",
       "        }    #T_b362dccc_9616_11ec_9156_9cfce82f6458row11_col7 {\n",
       "            text-align:  left;\n",
       "            text-align:  left;\n",
       "            background-color:  yellow;\n",
       "            background-color:  lightgrey;\n",
       "        }    #T_b362dccc_9616_11ec_9156_9cfce82f6458row12_col0 {\n",
       "            text-align:  left;\n",
       "            text-align:  left;\n",
       "        }    #T_b362dccc_9616_11ec_9156_9cfce82f6458row12_col1 {\n",
       "            text-align:  left;\n",
       "            text-align:  left;\n",
       "            : ;\n",
       "        }    #T_b362dccc_9616_11ec_9156_9cfce82f6458row12_col2 {\n",
       "            text-align:  left;\n",
       "            text-align:  left;\n",
       "            : ;\n",
       "        }    #T_b362dccc_9616_11ec_9156_9cfce82f6458row12_col3 {\n",
       "            text-align:  left;\n",
       "            text-align:  left;\n",
       "            : ;\n",
       "        }    #T_b362dccc_9616_11ec_9156_9cfce82f6458row12_col4 {\n",
       "            text-align:  left;\n",
       "            text-align:  left;\n",
       "            : ;\n",
       "        }    #T_b362dccc_9616_11ec_9156_9cfce82f6458row12_col5 {\n",
       "            text-align:  left;\n",
       "            text-align:  left;\n",
       "            : ;\n",
       "        }    #T_b362dccc_9616_11ec_9156_9cfce82f6458row12_col6 {\n",
       "            text-align:  left;\n",
       "            text-align:  left;\n",
       "            : ;\n",
       "        }    #T_b362dccc_9616_11ec_9156_9cfce82f6458row12_col7 {\n",
       "            text-align:  left;\n",
       "            text-align:  left;\n",
       "            : ;\n",
       "            background-color:  lightgrey;\n",
       "        }    #T_b362dccc_9616_11ec_9156_9cfce82f6458row13_col0 {\n",
       "            text-align:  left;\n",
       "            text-align:  left;\n",
       "        }    #T_b362dccc_9616_11ec_9156_9cfce82f6458row13_col1 {\n",
       "            text-align:  left;\n",
       "            text-align:  left;\n",
       "            : ;\n",
       "        }    #T_b362dccc_9616_11ec_9156_9cfce82f6458row13_col2 {\n",
       "            text-align:  left;\n",
       "            text-align:  left;\n",
       "            : ;\n",
       "        }    #T_b362dccc_9616_11ec_9156_9cfce82f6458row13_col3 {\n",
       "            text-align:  left;\n",
       "            text-align:  left;\n",
       "            : ;\n",
       "        }    #T_b362dccc_9616_11ec_9156_9cfce82f6458row13_col4 {\n",
       "            text-align:  left;\n",
       "            text-align:  left;\n",
       "            : ;\n",
       "        }    #T_b362dccc_9616_11ec_9156_9cfce82f6458row13_col5 {\n",
       "            text-align:  left;\n",
       "            text-align:  left;\n",
       "            : ;\n",
       "        }    #T_b362dccc_9616_11ec_9156_9cfce82f6458row13_col6 {\n",
       "            text-align:  left;\n",
       "            text-align:  left;\n",
       "            : ;\n",
       "        }    #T_b362dccc_9616_11ec_9156_9cfce82f6458row13_col7 {\n",
       "            text-align:  left;\n",
       "            text-align:  left;\n",
       "            : ;\n",
       "            background-color:  lightgrey;\n",
       "        }    #T_b362dccc_9616_11ec_9156_9cfce82f6458row14_col0 {\n",
       "            text-align:  left;\n",
       "            text-align:  left;\n",
       "        }    #T_b362dccc_9616_11ec_9156_9cfce82f6458row14_col1 {\n",
       "            text-align:  left;\n",
       "            text-align:  left;\n",
       "            : ;\n",
       "        }    #T_b362dccc_9616_11ec_9156_9cfce82f6458row14_col2 {\n",
       "            text-align:  left;\n",
       "            text-align:  left;\n",
       "            : ;\n",
       "        }    #T_b362dccc_9616_11ec_9156_9cfce82f6458row14_col3 {\n",
       "            text-align:  left;\n",
       "            text-align:  left;\n",
       "            : ;\n",
       "        }    #T_b362dccc_9616_11ec_9156_9cfce82f6458row14_col4 {\n",
       "            text-align:  left;\n",
       "            text-align:  left;\n",
       "            : ;\n",
       "        }    #T_b362dccc_9616_11ec_9156_9cfce82f6458row14_col5 {\n",
       "            text-align:  left;\n",
       "            text-align:  left;\n",
       "            : ;\n",
       "        }    #T_b362dccc_9616_11ec_9156_9cfce82f6458row14_col6 {\n",
       "            text-align:  left;\n",
       "            text-align:  left;\n",
       "            : ;\n",
       "        }    #T_b362dccc_9616_11ec_9156_9cfce82f6458row14_col7 {\n",
       "            text-align:  left;\n",
       "            text-align:  left;\n",
       "            background-color:  yellow;\n",
       "            background-color:  lightgrey;\n",
       "        }    #T_b362dccc_9616_11ec_9156_9cfce82f6458row15_col0 {\n",
       "            text-align:  left;\n",
       "            text-align:  left;\n",
       "        }    #T_b362dccc_9616_11ec_9156_9cfce82f6458row15_col1 {\n",
       "            text-align:  left;\n",
       "            text-align:  left;\n",
       "            : ;\n",
       "        }    #T_b362dccc_9616_11ec_9156_9cfce82f6458row15_col2 {\n",
       "            text-align:  left;\n",
       "            text-align:  left;\n",
       "            : ;\n",
       "        }    #T_b362dccc_9616_11ec_9156_9cfce82f6458row15_col3 {\n",
       "            text-align:  left;\n",
       "            text-align:  left;\n",
       "            : ;\n",
       "        }    #T_b362dccc_9616_11ec_9156_9cfce82f6458row15_col4 {\n",
       "            text-align:  left;\n",
       "            text-align:  left;\n",
       "            : ;\n",
       "        }    #T_b362dccc_9616_11ec_9156_9cfce82f6458row15_col5 {\n",
       "            text-align:  left;\n",
       "            text-align:  left;\n",
       "            : ;\n",
       "        }    #T_b362dccc_9616_11ec_9156_9cfce82f6458row15_col6 {\n",
       "            text-align:  left;\n",
       "            text-align:  left;\n",
       "            : ;\n",
       "        }    #T_b362dccc_9616_11ec_9156_9cfce82f6458row15_col7 {\n",
       "            text-align:  left;\n",
       "            text-align:  left;\n",
       "            : ;\n",
       "            background-color:  lightgrey;\n",
       "        }    #T_b362dccc_9616_11ec_9156_9cfce82f6458row16_col0 {\n",
       "            text-align:  left;\n",
       "            text-align:  left;\n",
       "        }    #T_b362dccc_9616_11ec_9156_9cfce82f6458row16_col1 {\n",
       "            text-align:  left;\n",
       "            text-align:  left;\n",
       "            : ;\n",
       "        }    #T_b362dccc_9616_11ec_9156_9cfce82f6458row16_col2 {\n",
       "            text-align:  left;\n",
       "            text-align:  left;\n",
       "            : ;\n",
       "        }    #T_b362dccc_9616_11ec_9156_9cfce82f6458row16_col3 {\n",
       "            text-align:  left;\n",
       "            text-align:  left;\n",
       "            : ;\n",
       "        }    #T_b362dccc_9616_11ec_9156_9cfce82f6458row16_col4 {\n",
       "            text-align:  left;\n",
       "            text-align:  left;\n",
       "            : ;\n",
       "        }    #T_b362dccc_9616_11ec_9156_9cfce82f6458row16_col5 {\n",
       "            text-align:  left;\n",
       "            text-align:  left;\n",
       "            : ;\n",
       "        }    #T_b362dccc_9616_11ec_9156_9cfce82f6458row16_col6 {\n",
       "            text-align:  left;\n",
       "            text-align:  left;\n",
       "            : ;\n",
       "        }    #T_b362dccc_9616_11ec_9156_9cfce82f6458row16_col7 {\n",
       "            text-align:  left;\n",
       "            text-align:  left;\n",
       "            background-color:  yellow;\n",
       "            background-color:  lightgrey;\n",
       "        }    #T_b362dccc_9616_11ec_9156_9cfce82f6458row17_col0 {\n",
       "            text-align:  left;\n",
       "            text-align:  left;\n",
       "        }    #T_b362dccc_9616_11ec_9156_9cfce82f6458row17_col1 {\n",
       "            text-align:  left;\n",
       "            text-align:  left;\n",
       "            : ;\n",
       "        }    #T_b362dccc_9616_11ec_9156_9cfce82f6458row17_col2 {\n",
       "            text-align:  left;\n",
       "            text-align:  left;\n",
       "            : ;\n",
       "        }    #T_b362dccc_9616_11ec_9156_9cfce82f6458row17_col3 {\n",
       "            text-align:  left;\n",
       "            text-align:  left;\n",
       "            : ;\n",
       "        }    #T_b362dccc_9616_11ec_9156_9cfce82f6458row17_col4 {\n",
       "            text-align:  left;\n",
       "            text-align:  left;\n",
       "            : ;\n",
       "        }    #T_b362dccc_9616_11ec_9156_9cfce82f6458row17_col5 {\n",
       "            text-align:  left;\n",
       "            text-align:  left;\n",
       "            : ;\n",
       "        }    #T_b362dccc_9616_11ec_9156_9cfce82f6458row17_col6 {\n",
       "            text-align:  left;\n",
       "            text-align:  left;\n",
       "            : ;\n",
       "        }    #T_b362dccc_9616_11ec_9156_9cfce82f6458row17_col7 {\n",
       "            text-align:  left;\n",
       "            text-align:  left;\n",
       "            background-color:  yellow;\n",
       "            background-color:  lightgrey;\n",
       "        }    #T_b362dccc_9616_11ec_9156_9cfce82f6458row18_col0 {\n",
       "            text-align:  left;\n",
       "            text-align:  left;\n",
       "        }    #T_b362dccc_9616_11ec_9156_9cfce82f6458row18_col1 {\n",
       "            text-align:  left;\n",
       "            text-align:  left;\n",
       "            : ;\n",
       "        }    #T_b362dccc_9616_11ec_9156_9cfce82f6458row18_col2 {\n",
       "            text-align:  left;\n",
       "            text-align:  left;\n",
       "            : ;\n",
       "        }    #T_b362dccc_9616_11ec_9156_9cfce82f6458row18_col3 {\n",
       "            text-align:  left;\n",
       "            text-align:  left;\n",
       "            : ;\n",
       "        }    #T_b362dccc_9616_11ec_9156_9cfce82f6458row18_col4 {\n",
       "            text-align:  left;\n",
       "            text-align:  left;\n",
       "            : ;\n",
       "        }    #T_b362dccc_9616_11ec_9156_9cfce82f6458row18_col5 {\n",
       "            text-align:  left;\n",
       "            text-align:  left;\n",
       "            : ;\n",
       "        }    #T_b362dccc_9616_11ec_9156_9cfce82f6458row18_col6 {\n",
       "            text-align:  left;\n",
       "            text-align:  left;\n",
       "            : ;\n",
       "        }    #T_b362dccc_9616_11ec_9156_9cfce82f6458row18_col7 {\n",
       "            text-align:  left;\n",
       "            text-align:  left;\n",
       "            background-color:  yellow;\n",
       "            background-color:  lightgrey;\n",
       "        }</style><table id=\"T_b362dccc_9616_11ec_9156_9cfce82f6458\" ><thead>    <tr>        <th class=\"blank level0\" ></th>        <th class=\"col_heading level0 col0\" >Model</th>        <th class=\"col_heading level0 col1\" >MAE</th>        <th class=\"col_heading level0 col2\" >MSE</th>        <th class=\"col_heading level0 col3\" >RMSE</th>        <th class=\"col_heading level0 col4\" >R2</th>        <th class=\"col_heading level0 col5\" >RMSLE</th>        <th class=\"col_heading level0 col6\" >MAPE</th>        <th class=\"col_heading level0 col7\" >TT (Sec)</th>    </tr></thead><tbody>\n",
       "                <tr>\n",
       "                        <th id=\"T_b362dccc_9616_11ec_9156_9cfce82f6458level0_row0\" class=\"row_heading level0 row0\" >et</th>\n",
       "                        <td id=\"T_b362dccc_9616_11ec_9156_9cfce82f6458row0_col0\" class=\"data row0 col0\" >Extra Trees Regressor</td>\n",
       "                        <td id=\"T_b362dccc_9616_11ec_9156_9cfce82f6458row0_col1\" class=\"data row0 col1\" >5.8594</td>\n",
       "                        <td id=\"T_b362dccc_9616_11ec_9156_9cfce82f6458row0_col2\" class=\"data row0 col2\" >65.1482</td>\n",
       "                        <td id=\"T_b362dccc_9616_11ec_9156_9cfce82f6458row0_col3\" class=\"data row0 col3\" >7.9786</td>\n",
       "                        <td id=\"T_b362dccc_9616_11ec_9156_9cfce82f6458row0_col4\" class=\"data row0 col4\" >0.9736</td>\n",
       "                        <td id=\"T_b362dccc_9616_11ec_9156_9cfce82f6458row0_col5\" class=\"data row0 col5\" >0.0305</td>\n",
       "                        <td id=\"T_b362dccc_9616_11ec_9156_9cfce82f6458row0_col6\" class=\"data row0 col6\" >0.0213</td>\n",
       "                        <td id=\"T_b362dccc_9616_11ec_9156_9cfce82f6458row0_col7\" class=\"data row0 col7\" >0.0467</td>\n",
       "            </tr>\n",
       "            <tr>\n",
       "                        <th id=\"T_b362dccc_9616_11ec_9156_9cfce82f6458level0_row1\" class=\"row_heading level0 row1\" >br</th>\n",
       "                        <td id=\"T_b362dccc_9616_11ec_9156_9cfce82f6458row1_col0\" class=\"data row1 col0\" >Bayesian Ridge</td>\n",
       "                        <td id=\"T_b362dccc_9616_11ec_9156_9cfce82f6458row1_col1\" class=\"data row1 col1\" >19.4782</td>\n",
       "                        <td id=\"T_b362dccc_9616_11ec_9156_9cfce82f6458row1_col2\" class=\"data row1 col2\" >654.9136</td>\n",
       "                        <td id=\"T_b362dccc_9616_11ec_9156_9cfce82f6458row1_col3\" class=\"data row1 col3\" >25.4110</td>\n",
       "                        <td id=\"T_b362dccc_9616_11ec_9156_9cfce82f6458row1_col4\" class=\"data row1 col4\" >0.6686</td>\n",
       "                        <td id=\"T_b362dccc_9616_11ec_9156_9cfce82f6458row1_col5\" class=\"data row1 col5\" >0.1012</td>\n",
       "                        <td id=\"T_b362dccc_9616_11ec_9156_9cfce82f6458row1_col6\" class=\"data row1 col6\" >0.0713</td>\n",
       "                        <td id=\"T_b362dccc_9616_11ec_9156_9cfce82f6458row1_col7\" class=\"data row1 col7\" >0.0067</td>\n",
       "            </tr>\n",
       "            <tr>\n",
       "                        <th id=\"T_b362dccc_9616_11ec_9156_9cfce82f6458level0_row2\" class=\"row_heading level0 row2\" >ridge</th>\n",
       "                        <td id=\"T_b362dccc_9616_11ec_9156_9cfce82f6458row2_col0\" class=\"data row2 col0\" >Ridge Regression</td>\n",
       "                        <td id=\"T_b362dccc_9616_11ec_9156_9cfce82f6458row2_col1\" class=\"data row2 col1\" >19.5406</td>\n",
       "                        <td id=\"T_b362dccc_9616_11ec_9156_9cfce82f6458row2_col2\" class=\"data row2 col2\" >650.2753</td>\n",
       "                        <td id=\"T_b362dccc_9616_11ec_9156_9cfce82f6458row2_col3\" class=\"data row2 col3\" >25.3334</td>\n",
       "                        <td id=\"T_b362dccc_9616_11ec_9156_9cfce82f6458row2_col4\" class=\"data row2 col4\" >0.6696</td>\n",
       "                        <td id=\"T_b362dccc_9616_11ec_9156_9cfce82f6458row2_col5\" class=\"data row2 col5\" >0.1009</td>\n",
       "                        <td id=\"T_b362dccc_9616_11ec_9156_9cfce82f6458row2_col6\" class=\"data row2 col6\" >0.0716</td>\n",
       "                        <td id=\"T_b362dccc_9616_11ec_9156_9cfce82f6458row2_col7\" class=\"data row2 col7\" >0.3033</td>\n",
       "            </tr>\n",
       "            <tr>\n",
       "                        <th id=\"T_b362dccc_9616_11ec_9156_9cfce82f6458level0_row3\" class=\"row_heading level0 row3\" >lr</th>\n",
       "                        <td id=\"T_b362dccc_9616_11ec_9156_9cfce82f6458row3_col0\" class=\"data row3 col0\" >Linear Regression</td>\n",
       "                        <td id=\"T_b362dccc_9616_11ec_9156_9cfce82f6458row3_col1\" class=\"data row3 col1\" >19.5479</td>\n",
       "                        <td id=\"T_b362dccc_9616_11ec_9156_9cfce82f6458row3_col2\" class=\"data row3 col2\" >649.4749</td>\n",
       "                        <td id=\"T_b362dccc_9616_11ec_9156_9cfce82f6458row3_col3\" class=\"data row3 col3\" >25.3188</td>\n",
       "                        <td id=\"T_b362dccc_9616_11ec_9156_9cfce82f6458row3_col4\" class=\"data row3 col4\" >0.6658</td>\n",
       "                        <td id=\"T_b362dccc_9616_11ec_9156_9cfce82f6458row3_col5\" class=\"data row3 col5\" >0.1014</td>\n",
       "                        <td id=\"T_b362dccc_9616_11ec_9156_9cfce82f6458row3_col6\" class=\"data row3 col6\" >0.0719</td>\n",
       "                        <td id=\"T_b362dccc_9616_11ec_9156_9cfce82f6458row3_col7\" class=\"data row3 col7\" >0.5333</td>\n",
       "            </tr>\n",
       "            <tr>\n",
       "                        <th id=\"T_b362dccc_9616_11ec_9156_9cfce82f6458level0_row4\" class=\"row_heading level0 row4\" >lar</th>\n",
       "                        <td id=\"T_b362dccc_9616_11ec_9156_9cfce82f6458row4_col0\" class=\"data row4 col0\" >Least Angle Regression</td>\n",
       "                        <td id=\"T_b362dccc_9616_11ec_9156_9cfce82f6458row4_col1\" class=\"data row4 col1\" >19.5479</td>\n",
       "                        <td id=\"T_b362dccc_9616_11ec_9156_9cfce82f6458row4_col2\" class=\"data row4 col2\" >649.4750</td>\n",
       "                        <td id=\"T_b362dccc_9616_11ec_9156_9cfce82f6458row4_col3\" class=\"data row4 col3\" >25.3188</td>\n",
       "                        <td id=\"T_b362dccc_9616_11ec_9156_9cfce82f6458row4_col4\" class=\"data row4 col4\" >0.6658</td>\n",
       "                        <td id=\"T_b362dccc_9616_11ec_9156_9cfce82f6458row4_col5\" class=\"data row4 col5\" >0.1014</td>\n",
       "                        <td id=\"T_b362dccc_9616_11ec_9156_9cfce82f6458row4_col6\" class=\"data row4 col6\" >0.0719</td>\n",
       "                        <td id=\"T_b362dccc_9616_11ec_9156_9cfce82f6458row4_col7\" class=\"data row4 col7\" >0.0067</td>\n",
       "            </tr>\n",
       "            <tr>\n",
       "                        <th id=\"T_b362dccc_9616_11ec_9156_9cfce82f6458level0_row5\" class=\"row_heading level0 row5\" >omp</th>\n",
       "                        <td id=\"T_b362dccc_9616_11ec_9156_9cfce82f6458row5_col0\" class=\"data row5 col0\" >Orthogonal Matching Pursuit</td>\n",
       "                        <td id=\"T_b362dccc_9616_11ec_9156_9cfce82f6458row5_col1\" class=\"data row5 col1\" >19.5485</td>\n",
       "                        <td id=\"T_b362dccc_9616_11ec_9156_9cfce82f6458row5_col2\" class=\"data row5 col2\" >649.5100</td>\n",
       "                        <td id=\"T_b362dccc_9616_11ec_9156_9cfce82f6458row5_col3\" class=\"data row5 col3\" >25.3196</td>\n",
       "                        <td id=\"T_b362dccc_9616_11ec_9156_9cfce82f6458row5_col4\" class=\"data row5 col4\" >0.6658</td>\n",
       "                        <td id=\"T_b362dccc_9616_11ec_9156_9cfce82f6458row5_col5\" class=\"data row5 col5\" >0.1014</td>\n",
       "                        <td id=\"T_b362dccc_9616_11ec_9156_9cfce82f6458row5_col6\" class=\"data row5 col6\" >0.0719</td>\n",
       "                        <td id=\"T_b362dccc_9616_11ec_9156_9cfce82f6458row5_col7\" class=\"data row5 col7\" >0.0067</td>\n",
       "            </tr>\n",
       "            <tr>\n",
       "                        <th id=\"T_b362dccc_9616_11ec_9156_9cfce82f6458level0_row6\" class=\"row_heading level0 row6\" >xgboost</th>\n",
       "                        <td id=\"T_b362dccc_9616_11ec_9156_9cfce82f6458row6_col0\" class=\"data row6 col0\" >Extreme Gradient Boosting</td>\n",
       "                        <td id=\"T_b362dccc_9616_11ec_9156_9cfce82f6458row6_col1\" class=\"data row6 col1\" >21.3317</td>\n",
       "                        <td id=\"T_b362dccc_9616_11ec_9156_9cfce82f6458row6_col2\" class=\"data row6 col2\" >556.1607</td>\n",
       "                        <td id=\"T_b362dccc_9616_11ec_9156_9cfce82f6458row6_col3\" class=\"data row6 col3\" >23.4534</td>\n",
       "                        <td id=\"T_b362dccc_9616_11ec_9156_9cfce82f6458row6_col4\" class=\"data row6 col4\" >0.7552</td>\n",
       "                        <td id=\"T_b362dccc_9616_11ec_9156_9cfce82f6458row6_col5\" class=\"data row6 col5\" >0.0794</td>\n",
       "                        <td id=\"T_b362dccc_9616_11ec_9156_9cfce82f6458row6_col6\" class=\"data row6 col6\" >0.0725</td>\n",
       "                        <td id=\"T_b362dccc_9616_11ec_9156_9cfce82f6458row6_col7\" class=\"data row6 col7\" >0.1367</td>\n",
       "            </tr>\n",
       "            <tr>\n",
       "                        <th id=\"T_b362dccc_9616_11ec_9156_9cfce82f6458level0_row7\" class=\"row_heading level0 row7\" >gbr</th>\n",
       "                        <td id=\"T_b362dccc_9616_11ec_9156_9cfce82f6458row7_col0\" class=\"data row7 col0\" >Gradient Boosting Regressor</td>\n",
       "                        <td id=\"T_b362dccc_9616_11ec_9156_9cfce82f6458row7_col1\" class=\"data row7 col1\" >22.3997</td>\n",
       "                        <td id=\"T_b362dccc_9616_11ec_9156_9cfce82f6458row7_col2\" class=\"data row7 col2\" >622.8042</td>\n",
       "                        <td id=\"T_b362dccc_9616_11ec_9156_9cfce82f6458row7_col3\" class=\"data row7 col3\" >24.8829</td>\n",
       "                        <td id=\"T_b362dccc_9616_11ec_9156_9cfce82f6458row7_col4\" class=\"data row7 col4\" >0.6722</td>\n",
       "                        <td id=\"T_b362dccc_9616_11ec_9156_9cfce82f6458row7_col5\" class=\"data row7 col5\" >0.0826</td>\n",
       "                        <td id=\"T_b362dccc_9616_11ec_9156_9cfce82f6458row7_col6\" class=\"data row7 col6\" >0.0770</td>\n",
       "                        <td id=\"T_b362dccc_9616_11ec_9156_9cfce82f6458row7_col7\" class=\"data row7 col7\" >0.0167</td>\n",
       "            </tr>\n",
       "            <tr>\n",
       "                        <th id=\"T_b362dccc_9616_11ec_9156_9cfce82f6458level0_row8\" class=\"row_heading level0 row8\" >dt</th>\n",
       "                        <td id=\"T_b362dccc_9616_11ec_9156_9cfce82f6458row8_col0\" class=\"data row8 col0\" >Decision Tree Regressor</td>\n",
       "                        <td id=\"T_b362dccc_9616_11ec_9156_9cfce82f6458row8_col1\" class=\"data row8 col1\" >22.4000</td>\n",
       "                        <td id=\"T_b362dccc_9616_11ec_9156_9cfce82f6458row8_col2\" class=\"data row8 col2\" >622.8000</td>\n",
       "                        <td id=\"T_b362dccc_9616_11ec_9156_9cfce82f6458row8_col3\" class=\"data row8 col3\" >24.8828</td>\n",
       "                        <td id=\"T_b362dccc_9616_11ec_9156_9cfce82f6458row8_col4\" class=\"data row8 col4\" >0.6723</td>\n",
       "                        <td id=\"T_b362dccc_9616_11ec_9156_9cfce82f6458row8_col5\" class=\"data row8 col5\" >0.0826</td>\n",
       "                        <td id=\"T_b362dccc_9616_11ec_9156_9cfce82f6458row8_col6\" class=\"data row8 col6\" >0.0770</td>\n",
       "                        <td id=\"T_b362dccc_9616_11ec_9156_9cfce82f6458row8_col7\" class=\"data row8 col7\" >0.0067</td>\n",
       "            </tr>\n",
       "            <tr>\n",
       "                        <th id=\"T_b362dccc_9616_11ec_9156_9cfce82f6458level0_row9\" class=\"row_heading level0 row9\" >rf</th>\n",
       "                        <td id=\"T_b362dccc_9616_11ec_9156_9cfce82f6458row9_col0\" class=\"data row9 col0\" >Random Forest Regressor</td>\n",
       "                        <td id=\"T_b362dccc_9616_11ec_9156_9cfce82f6458row9_col1\" class=\"data row9 col1\" >22.5083</td>\n",
       "                        <td id=\"T_b362dccc_9616_11ec_9156_9cfce82f6458row9_col2\" class=\"data row9 col2\" >699.7345</td>\n",
       "                        <td id=\"T_b362dccc_9616_11ec_9156_9cfce82f6458row9_col3\" class=\"data row9 col3\" >26.3443</td>\n",
       "                        <td id=\"T_b362dccc_9616_11ec_9156_9cfce82f6458row9_col4\" class=\"data row9 col4\" >0.7072</td>\n",
       "                        <td id=\"T_b362dccc_9616_11ec_9156_9cfce82f6458row9_col5\" class=\"data row9 col5\" >0.0918</td>\n",
       "                        <td id=\"T_b362dccc_9616_11ec_9156_9cfce82f6458row9_col6\" class=\"data row9 col6\" >0.0814</td>\n",
       "                        <td id=\"T_b362dccc_9616_11ec_9156_9cfce82f6458row9_col7\" class=\"data row9 col7\" >0.0533</td>\n",
       "            </tr>\n",
       "            <tr>\n",
       "                        <th id=\"T_b362dccc_9616_11ec_9156_9cfce82f6458level0_row10\" class=\"row_heading level0 row10\" >ada</th>\n",
       "                        <td id=\"T_b362dccc_9616_11ec_9156_9cfce82f6458row10_col0\" class=\"data row10 col0\" >AdaBoost Regressor</td>\n",
       "                        <td id=\"T_b362dccc_9616_11ec_9156_9cfce82f6458row10_col1\" class=\"data row10 col1\" >22.9594</td>\n",
       "                        <td id=\"T_b362dccc_9616_11ec_9156_9cfce82f6458row10_col2\" class=\"data row10 col2\" >647.6313</td>\n",
       "                        <td id=\"T_b362dccc_9616_11ec_9156_9cfce82f6458row10_col3\" class=\"data row10 col3\" >25.3293</td>\n",
       "                        <td id=\"T_b362dccc_9616_11ec_9156_9cfce82f6458row10_col4\" class=\"data row10 col4\" >0.6689</td>\n",
       "                        <td id=\"T_b362dccc_9616_11ec_9156_9cfce82f6458row10_col5\" class=\"data row10 col5\" >0.0833</td>\n",
       "                        <td id=\"T_b362dccc_9616_11ec_9156_9cfce82f6458row10_col6\" class=\"data row10 col6\" >0.0782</td>\n",
       "                        <td id=\"T_b362dccc_9616_11ec_9156_9cfce82f6458row10_col7\" class=\"data row10 col7\" >0.0300</td>\n",
       "            </tr>\n",
       "            <tr>\n",
       "                        <th id=\"T_b362dccc_9616_11ec_9156_9cfce82f6458level0_row11\" class=\"row_heading level0 row11\" >en</th>\n",
       "                        <td id=\"T_b362dccc_9616_11ec_9156_9cfce82f6458row11_col0\" class=\"data row11 col0\" >Elastic Net</td>\n",
       "                        <td id=\"T_b362dccc_9616_11ec_9156_9cfce82f6458row11_col1\" class=\"data row11 col1\" >23.2390</td>\n",
       "                        <td id=\"T_b362dccc_9616_11ec_9156_9cfce82f6458row11_col2\" class=\"data row11 col2\" >790.1679</td>\n",
       "                        <td id=\"T_b362dccc_9616_11ec_9156_9cfce82f6458row11_col3\" class=\"data row11 col3\" >27.7038</td>\n",
       "                        <td id=\"T_b362dccc_9616_11ec_9156_9cfce82f6458row11_col4\" class=\"data row11 col4\" >0.7261</td>\n",
       "                        <td id=\"T_b362dccc_9616_11ec_9156_9cfce82f6458row11_col5\" class=\"data row11 col5\" >0.0942</td>\n",
       "                        <td id=\"T_b362dccc_9616_11ec_9156_9cfce82f6458row11_col6\" class=\"data row11 col6\" >0.0804</td>\n",
       "                        <td id=\"T_b362dccc_9616_11ec_9156_9cfce82f6458row11_col7\" class=\"data row11 col7\" >0.0067</td>\n",
       "            </tr>\n",
       "            <tr>\n",
       "                        <th id=\"T_b362dccc_9616_11ec_9156_9cfce82f6458level0_row12\" class=\"row_heading level0 row12\" >lasso</th>\n",
       "                        <td id=\"T_b362dccc_9616_11ec_9156_9cfce82f6458row12_col0\" class=\"data row12 col0\" >Lasso Regression</td>\n",
       "                        <td id=\"T_b362dccc_9616_11ec_9156_9cfce82f6458row12_col1\" class=\"data row12 col1\" >28.1897</td>\n",
       "                        <td id=\"T_b362dccc_9616_11ec_9156_9cfce82f6458row12_col2\" class=\"data row12 col2\" >1070.8115</td>\n",
       "                        <td id=\"T_b362dccc_9616_11ec_9156_9cfce82f6458row12_col3\" class=\"data row12 col3\" >32.2488</td>\n",
       "                        <td id=\"T_b362dccc_9616_11ec_9156_9cfce82f6458row12_col4\" class=\"data row12 col4\" >0.6338</td>\n",
       "                        <td id=\"T_b362dccc_9616_11ec_9156_9cfce82f6458row12_col5\" class=\"data row12 col5\" >0.1047</td>\n",
       "                        <td id=\"T_b362dccc_9616_11ec_9156_9cfce82f6458row12_col6\" class=\"data row12 col6\" >0.0971</td>\n",
       "                        <td id=\"T_b362dccc_9616_11ec_9156_9cfce82f6458row12_col7\" class=\"data row12 col7\" >0.3467</td>\n",
       "            </tr>\n",
       "            <tr>\n",
       "                        <th id=\"T_b362dccc_9616_11ec_9156_9cfce82f6458level0_row13\" class=\"row_heading level0 row13\" >knn</th>\n",
       "                        <td id=\"T_b362dccc_9616_11ec_9156_9cfce82f6458row13_col0\" class=\"data row13 col0\" >K Neighbors Regressor</td>\n",
       "                        <td id=\"T_b362dccc_9616_11ec_9156_9cfce82f6458row13_col1\" class=\"data row13 col1\" >63.8681</td>\n",
       "                        <td id=\"T_b362dccc_9616_11ec_9156_9cfce82f6458row13_col2\" class=\"data row13 col2\" >7187.4335</td>\n",
       "                        <td id=\"T_b362dccc_9616_11ec_9156_9cfce82f6458row13_col3\" class=\"data row13 col3\" >72.2452</td>\n",
       "                        <td id=\"T_b362dccc_9616_11ec_9156_9cfce82f6458row13_col4\" class=\"data row13 col4\" >-0.9813</td>\n",
       "                        <td id=\"T_b362dccc_9616_11ec_9156_9cfce82f6458row13_col5\" class=\"data row13 col5\" >0.2392</td>\n",
       "                        <td id=\"T_b362dccc_9616_11ec_9156_9cfce82f6458row13_col6\" class=\"data row13 col6\" >0.2473</td>\n",
       "                        <td id=\"T_b362dccc_9616_11ec_9156_9cfce82f6458row13_col7\" class=\"data row13 col7\" >0.0100</td>\n",
       "            </tr>\n",
       "            <tr>\n",
       "                        <th id=\"T_b362dccc_9616_11ec_9156_9cfce82f6458level0_row14\" class=\"row_heading level0 row14\" >llar</th>\n",
       "                        <td id=\"T_b362dccc_9616_11ec_9156_9cfce82f6458row14_col0\" class=\"data row14 col0\" >Lasso Least Angle Regression</td>\n",
       "                        <td id=\"T_b362dccc_9616_11ec_9156_9cfce82f6458row14_col1\" class=\"data row14 col1\" >127.9210</td>\n",
       "                        <td id=\"T_b362dccc_9616_11ec_9156_9cfce82f6458row14_col2\" class=\"data row14 col2\" >19867.6537</td>\n",
       "                        <td id=\"T_b362dccc_9616_11ec_9156_9cfce82f6458row14_col3\" class=\"data row14 col3\" >138.1216</td>\n",
       "                        <td id=\"T_b362dccc_9616_11ec_9156_9cfce82f6458row14_col4\" class=\"data row14 col4\" >-13.7190</td>\n",
       "                        <td id=\"T_b362dccc_9616_11ec_9156_9cfce82f6458row14_col5\" class=\"data row14 col5\" >0.4398</td>\n",
       "                        <td id=\"T_b362dccc_9616_11ec_9156_9cfce82f6458row14_col6\" class=\"data row14 col6\" >0.5026</td>\n",
       "                        <td id=\"T_b362dccc_9616_11ec_9156_9cfce82f6458row14_col7\" class=\"data row14 col7\" >0.0067</td>\n",
       "            </tr>\n",
       "            <tr>\n",
       "                        <th id=\"T_b362dccc_9616_11ec_9156_9cfce82f6458level0_row15\" class=\"row_heading level0 row15\" >lightgbm</th>\n",
       "                        <td id=\"T_b362dccc_9616_11ec_9156_9cfce82f6458row15_col0\" class=\"data row15 col0\" >Light Gradient Boosting Machine</td>\n",
       "                        <td id=\"T_b362dccc_9616_11ec_9156_9cfce82f6458row15_col1\" class=\"data row15 col1\" >127.9210</td>\n",
       "                        <td id=\"T_b362dccc_9616_11ec_9156_9cfce82f6458row15_col2\" class=\"data row15 col2\" >19867.6538</td>\n",
       "                        <td id=\"T_b362dccc_9616_11ec_9156_9cfce82f6458row15_col3\" class=\"data row15 col3\" >138.1216</td>\n",
       "                        <td id=\"T_b362dccc_9616_11ec_9156_9cfce82f6458row15_col4\" class=\"data row15 col4\" >-13.7190</td>\n",
       "                        <td id=\"T_b362dccc_9616_11ec_9156_9cfce82f6458row15_col5\" class=\"data row15 col5\" >0.4398</td>\n",
       "                        <td id=\"T_b362dccc_9616_11ec_9156_9cfce82f6458row15_col6\" class=\"data row15 col6\" >0.5026</td>\n",
       "                        <td id=\"T_b362dccc_9616_11ec_9156_9cfce82f6458row15_col7\" class=\"data row15 col7\" >0.0167</td>\n",
       "            </tr>\n",
       "            <tr>\n",
       "                        <th id=\"T_b362dccc_9616_11ec_9156_9cfce82f6458level0_row16\" class=\"row_heading level0 row16\" >dummy</th>\n",
       "                        <td id=\"T_b362dccc_9616_11ec_9156_9cfce82f6458row16_col0\" class=\"data row16 col0\" >Dummy Regressor</td>\n",
       "                        <td id=\"T_b362dccc_9616_11ec_9156_9cfce82f6458row16_col1\" class=\"data row16 col1\" >127.9210</td>\n",
       "                        <td id=\"T_b362dccc_9616_11ec_9156_9cfce82f6458row16_col2\" class=\"data row16 col2\" >19867.6537</td>\n",
       "                        <td id=\"T_b362dccc_9616_11ec_9156_9cfce82f6458row16_col3\" class=\"data row16 col3\" >138.1216</td>\n",
       "                        <td id=\"T_b362dccc_9616_11ec_9156_9cfce82f6458row16_col4\" class=\"data row16 col4\" >-13.7190</td>\n",
       "                        <td id=\"T_b362dccc_9616_11ec_9156_9cfce82f6458row16_col5\" class=\"data row16 col5\" >0.4398</td>\n",
       "                        <td id=\"T_b362dccc_9616_11ec_9156_9cfce82f6458row16_col6\" class=\"data row16 col6\" >0.5026</td>\n",
       "                        <td id=\"T_b362dccc_9616_11ec_9156_9cfce82f6458row16_col7\" class=\"data row16 col7\" >0.0067</td>\n",
       "            </tr>\n",
       "            <tr>\n",
       "                        <th id=\"T_b362dccc_9616_11ec_9156_9cfce82f6458level0_row17\" class=\"row_heading level0 row17\" >huber</th>\n",
       "                        <td id=\"T_b362dccc_9616_11ec_9156_9cfce82f6458row17_col0\" class=\"data row17 col0\" >Huber Regressor</td>\n",
       "                        <td id=\"T_b362dccc_9616_11ec_9156_9cfce82f6458row17_col1\" class=\"data row17 col1\" >130.1814</td>\n",
       "                        <td id=\"T_b362dccc_9616_11ec_9156_9cfce82f6458row17_col2\" class=\"data row17 col2\" >20863.3580</td>\n",
       "                        <td id=\"T_b362dccc_9616_11ec_9156_9cfce82f6458row17_col3\" class=\"data row17 col3\" >141.2312</td>\n",
       "                        <td id=\"T_b362dccc_9616_11ec_9156_9cfce82f6458row17_col4\" class=\"data row17 col4\" >-14.5902</td>\n",
       "                        <td id=\"T_b362dccc_9616_11ec_9156_9cfce82f6458row17_col5\" class=\"data row17 col5\" >0.4477</td>\n",
       "                        <td id=\"T_b362dccc_9616_11ec_9156_9cfce82f6458row17_col6\" class=\"data row17 col6\" >0.5152</td>\n",
       "                        <td id=\"T_b362dccc_9616_11ec_9156_9cfce82f6458row17_col7\" class=\"data row17 col7\" >0.0067</td>\n",
       "            </tr>\n",
       "            <tr>\n",
       "                        <th id=\"T_b362dccc_9616_11ec_9156_9cfce82f6458level0_row18\" class=\"row_heading level0 row18\" >par</th>\n",
       "                        <td id=\"T_b362dccc_9616_11ec_9156_9cfce82f6458row18_col0\" class=\"data row18 col0\" >Passive Aggressive Regressor</td>\n",
       "                        <td id=\"T_b362dccc_9616_11ec_9156_9cfce82f6458row18_col1\" class=\"data row18 col1\" >198.4194</td>\n",
       "                        <td id=\"T_b362dccc_9616_11ec_9156_9cfce82f6458row18_col2\" class=\"data row18 col2\" >53130.0985</td>\n",
       "                        <td id=\"T_b362dccc_9616_11ec_9156_9cfce82f6458row18_col3\" class=\"data row18 col3\" >220.5219</td>\n",
       "                        <td id=\"T_b362dccc_9616_11ec_9156_9cfce82f6458row18_col4\" class=\"data row18 col4\" >-45.2263</td>\n",
       "                        <td id=\"T_b362dccc_9616_11ec_9156_9cfce82f6458row18_col5\" class=\"data row18 col5\" >0.6480</td>\n",
       "                        <td id=\"T_b362dccc_9616_11ec_9156_9cfce82f6458row18_col6\" class=\"data row18 col6\" >0.8034</td>\n",
       "                        <td id=\"T_b362dccc_9616_11ec_9156_9cfce82f6458row18_col7\" class=\"data row18 col7\" >0.0067</td>\n",
       "            </tr>\n",
       "    </tbody></table>"
      ],
      "text/plain": [
       "<pandas.io.formats.style.Styler at 0x7fd5b0b56400>"
      ]
     },
     "metadata": {},
     "output_type": "display_data"
    }
   ],
   "source": [
    "best = compare_models(sort = 'MAE')"
   ]
  },
  {
   "cell_type": "code",
   "execution_count": 206,
   "id": "5263ec1b-58a5-4c30-a743-fd100a11e5d3",
   "metadata": {},
   "outputs": [
    {
     "data": {
      "text/html": [
       "<style  type=\"text/css\" >\n",
       "</style><table id=\"T_b4965baa_9616_11ec_9156_9cfce82f6458\" ><thead>    <tr>        <th class=\"blank level0\" ></th>        <th class=\"col_heading level0 col0\" >Model</th>        <th class=\"col_heading level0 col1\" >MAE</th>        <th class=\"col_heading level0 col2\" >MSE</th>        <th class=\"col_heading level0 col3\" >RMSE</th>        <th class=\"col_heading level0 col4\" >R2</th>        <th class=\"col_heading level0 col5\" >RMSLE</th>        <th class=\"col_heading level0 col6\" >MAPE</th>    </tr></thead><tbody>\n",
       "                <tr>\n",
       "                        <th id=\"T_b4965baa_9616_11ec_9156_9cfce82f6458level0_row0\" class=\"row_heading level0 row0\" >0</th>\n",
       "                        <td id=\"T_b4965baa_9616_11ec_9156_9cfce82f6458row0_col0\" class=\"data row0 col0\" >Extra Trees Regressor</td>\n",
       "                        <td id=\"T_b4965baa_9616_11ec_9156_9cfce82f6458row0_col1\" class=\"data row0 col1\" >3.6703</td>\n",
       "                        <td id=\"T_b4965baa_9616_11ec_9156_9cfce82f6458row0_col2\" class=\"data row0 col2\" >55.2567</td>\n",
       "                        <td id=\"T_b4965baa_9616_11ec_9156_9cfce82f6458row0_col3\" class=\"data row0 col3\" >7.4335</td>\n",
       "                        <td id=\"T_b4965baa_9616_11ec_9156_9cfce82f6458row0_col4\" class=\"data row0 col4\" >0.9960</td>\n",
       "                        <td id=\"T_b4965baa_9616_11ec_9156_9cfce82f6458row0_col5\" class=\"data row0 col5\" >0.0140</td>\n",
       "                        <td id=\"T_b4965baa_9616_11ec_9156_9cfce82f6458row0_col6\" class=\"data row0 col6\" >0.0076</td>\n",
       "            </tr>\n",
       "    </tbody></table>"
      ],
      "text/plain": [
       "<pandas.io.formats.style.Styler at 0x7fd5b0c32c40>"
      ]
     },
     "metadata": {},
     "output_type": "display_data"
    }
   ],
   "source": [
    "prediction_holdout = predict_model(best);"
   ]
  },
  {
   "cell_type": "code",
   "execution_count": 207,
   "id": "0b8a730f-9402-41d0-8b3f-a148fdf8ae5f",
   "metadata": {},
   "outputs": [],
   "source": [
    "predictions = predict_model(best, data=data)"
   ]
  },
  {
   "cell_type": "code",
   "execution_count": 208,
   "id": "17815742-4a1c-4826-9a58-6c435c2804c0",
   "metadata": {},
   "outputs": [
    {
     "data": {
      "text/html": [
       "<div>\n",
       "<style scoped>\n",
       "    .dataframe tbody tr th:only-of-type {\n",
       "        vertical-align: middle;\n",
       "    }\n",
       "\n",
       "    .dataframe tbody tr th {\n",
       "        vertical-align: top;\n",
       "    }\n",
       "\n",
       "    .dataframe thead th {\n",
       "        text-align: right;\n",
       "    }\n",
       "</style>\n",
       "<table border=\"1\" class=\"dataframe\">\n",
       "  <thead>\n",
       "    <tr style=\"text-align: right;\">\n",
       "      <th></th>\n",
       "      <th>year</th>\n",
       "      <th>death_rate</th>\n",
       "      <th>Label</th>\n",
       "    </tr>\n",
       "  </thead>\n",
       "  <tbody>\n",
       "    <tr>\n",
       "      <th>0</th>\n",
       "      <td>1990</td>\n",
       "      <td>556</td>\n",
       "      <td>538.000000</td>\n",
       "    </tr>\n",
       "    <tr>\n",
       "      <th>1</th>\n",
       "      <td>1991</td>\n",
       "      <td>538</td>\n",
       "      <td>538.000000</td>\n",
       "    </tr>\n",
       "    <tr>\n",
       "      <th>2</th>\n",
       "      <td>1992</td>\n",
       "      <td>521</td>\n",
       "      <td>521.000000</td>\n",
       "    </tr>\n",
       "    <tr>\n",
       "      <th>3</th>\n",
       "      <td>1993</td>\n",
       "      <td>504</td>\n",
       "      <td>504.000000</td>\n",
       "    </tr>\n",
       "    <tr>\n",
       "      <th>4</th>\n",
       "      <td>1994</td>\n",
       "      <td>488</td>\n",
       "      <td>488.000000</td>\n",
       "    </tr>\n",
       "    <tr>\n",
       "      <th>5</th>\n",
       "      <td>1995</td>\n",
       "      <td>471</td>\n",
       "      <td>471.000000</td>\n",
       "    </tr>\n",
       "    <tr>\n",
       "      <th>6</th>\n",
       "      <td>1996</td>\n",
       "      <td>453</td>\n",
       "      <td>453.000000</td>\n",
       "    </tr>\n",
       "    <tr>\n",
       "      <th>7</th>\n",
       "      <td>1997</td>\n",
       "      <td>434</td>\n",
       "      <td>434.000000</td>\n",
       "    </tr>\n",
       "    <tr>\n",
       "      <th>8</th>\n",
       "      <td>1998</td>\n",
       "      <td>414</td>\n",
       "      <td>413.157247</td>\n",
       "    </tr>\n",
       "    <tr>\n",
       "      <th>9</th>\n",
       "      <td>1999</td>\n",
       "      <td>395</td>\n",
       "      <td>395.118421</td>\n",
       "    </tr>\n",
       "  </tbody>\n",
       "</table>\n",
       "</div>"
      ],
      "text/plain": [
       "   year  death_rate       Label\n",
       "0  1990         556  538.000000\n",
       "1  1991         538  538.000000\n",
       "2  1992         521  521.000000\n",
       "3  1993         504  504.000000\n",
       "4  1994         488  488.000000\n",
       "5  1995         471  471.000000\n",
       "6  1996         453  453.000000\n",
       "7  1997         434  434.000000\n",
       "8  1998         414  413.157247\n",
       "9  1999         395  395.118421"
      ]
     },
     "execution_count": 208,
     "metadata": {},
     "output_type": "execute_result"
    }
   ],
   "source": [
    "predictions.head(10)"
   ]
  },
  {
   "cell_type": "code",
   "execution_count": 209,
   "id": "27c8d0f7-2f4a-4f05-a075-f6e156c564ae",
   "metadata": {},
   "outputs": [],
   "source": [
    "final_best = finalize_model(best)"
   ]
  },
  {
   "cell_type": "code",
   "execution_count": 210,
   "id": "e0521acb-fc23-4fdd-9f23-edc4c85d6bb9",
   "metadata": {},
   "outputs": [
    {
     "data": {
      "text/html": [
       "<div>\n",
       "<style scoped>\n",
       "    .dataframe tbody tr th:only-of-type {\n",
       "        vertical-align: middle;\n",
       "    }\n",
       "\n",
       "    .dataframe tbody tr th {\n",
       "        vertical-align: top;\n",
       "    }\n",
       "\n",
       "    .dataframe thead th {\n",
       "        text-align: right;\n",
       "    }\n",
       "</style>\n",
       "<table border=\"1\" class=\"dataframe\">\n",
       "  <thead>\n",
       "    <tr style=\"text-align: right;\">\n",
       "      <th></th>\n",
       "      <th>year</th>\n",
       "      <th>death_rate</th>\n",
       "      <th>Label</th>\n",
       "    </tr>\n",
       "  </thead>\n",
       "  <tbody>\n",
       "    <tr>\n",
       "      <th>8</th>\n",
       "      <td>1998</td>\n",
       "      <td>414</td>\n",
       "      <td>413.157247</td>\n",
       "    </tr>\n",
       "    <tr>\n",
       "      <th>16</th>\n",
       "      <td>2006</td>\n",
       "      <td>265</td>\n",
       "      <td>267.571045</td>\n",
       "    </tr>\n",
       "    <tr>\n",
       "      <th>0</th>\n",
       "      <td>1990</td>\n",
       "      <td>556</td>\n",
       "      <td>538.000000</td>\n",
       "    </tr>\n",
       "    <tr>\n",
       "      <th>24</th>\n",
       "      <td>2014</td>\n",
       "      <td>181</td>\n",
       "      <td>181.037993</td>\n",
       "    </tr>\n",
       "    <tr>\n",
       "      <th>11</th>\n",
       "      <td>2001</td>\n",
       "      <td>354</td>\n",
       "      <td>353.548316</td>\n",
       "    </tr>\n",
       "  </tbody>\n",
       "</table>\n",
       "</div>"
      ],
      "text/plain": [
       "    year  death_rate       Label\n",
       "8   1998         414  413.157247\n",
       "16  2006         265  267.571045\n",
       "0   1990         556  538.000000\n",
       "24  2014         181  181.037993\n",
       "11  2001         354  353.548316"
      ]
     },
     "execution_count": 210,
     "metadata": {},
     "output_type": "execute_result"
    }
   ],
   "source": [
    "predictions_future = predict_model(final_best, data=test)\n",
    "predictions_future.head()"
   ]
  },
  {
   "cell_type": "code",
   "execution_count": null,
   "id": "cdedb480-a461-45b0-abe3-48c6e87a9936",
   "metadata": {},
   "outputs": [],
   "source": []
  }
 ],
 "metadata": {
  "kernelspec": {
   "display_name": "Python 3 (ipykernel)",
   "language": "python",
   "name": "python3"
  },
  "language_info": {
   "codemirror_mode": {
    "name": "ipython",
    "version": 3
   },
   "file_extension": ".py",
   "mimetype": "text/x-python",
   "name": "python",
   "nbconvert_exporter": "python",
   "pygments_lexer": "ipython3",
   "version": "3.8.12"
  }
 },
 "nbformat": 4,
 "nbformat_minor": 5
}
